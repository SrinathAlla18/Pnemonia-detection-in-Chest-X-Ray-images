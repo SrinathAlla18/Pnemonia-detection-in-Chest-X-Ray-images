{
  "nbformat": 4,
  "nbformat_minor": 0,
  "metadata": {
    "accelerator": "GPU",
    "colab": {
      "name": "final project ",
      "provenance": [],
      "collapsed_sections": [],
      "machine_shape": "hm"
    },
    "kernelspec": {
      "display_name": "Python 3",
      "name": "python3"
    },
    "language_info": {
      "name": "python"
    }
  },
  "cells": [
    {
      "cell_type": "markdown",
      "metadata": {
        "id": "CwGVsspyY7Tg"
      },
      "source": [
        "# The link of the Dataset is the project final document(Dataset Section)"
      ]
    },
    {
      "cell_type": "code",
      "metadata": {
        "id": "b_2jwdp13kjn"
      },
      "source": [
        "import pandas as pd\n",
        "import numpy as np\n",
        "import tensorflow as tf\n",
        "import os\n",
        "import seaborn as sns\n",
        "import matplotlib.pyplot as plt\n",
        "from keras.models import Sequential\n",
        "from keras.layers import Dense, Flatten\n",
        "from keras.preprocessing.image import ImageDataGenerator\n",
        "from tensorflow.keras.optimizers import RMSprop,Adam,SGD\n",
        "from sklearn.model_selection import train_test_split\n",
        "from keras.applications.vgg16 import VGG16\n",
        "#from keras.applications.ResNet50 import ResNet50\n",
        "#from keras.applications import InceptionResNetV2\n",
        "from keras.applications.vgg16 import preprocess_input\n",
        "from sklearn.metrics import confusion_matrix, classification_report,accuracy_score,precision_score,recall_score"
      ],
      "execution_count": null,
      "outputs": []
    },
    {
      "cell_type": "code",
      "metadata": {
        "colab": {
          "base_uri": "https://localhost:8080/"
        },
        "id": "Qwl51lhE_N3x",
        "outputId": "e4bd0423-119d-46a5-911b-20b24ec1e878"
      },
      "source": [
        "from google.colab import drive\n",
        "drive.mount('/content/gdrive')"
      ],
      "execution_count": null,
      "outputs": [
        {
          "output_type": "stream",
          "name": "stdout",
          "text": [
            "Mounted at /content/gdrive\n"
          ]
        }
      ]
    },
    {
      "cell_type": "code",
      "metadata": {
        "colab": {
          "base_uri": "https://localhost:8080/"
        },
        "id": "kBsw_OFE_Qkb",
        "outputId": "3e7deb5f-aa99-45aa-a389-0df2cc56d1fa"
      },
      "source": [
        "cd '/content/gdrive/My Drive/train/'"
      ],
      "execution_count": null,
      "outputs": [
        {
          "output_type": "stream",
          "name": "stdout",
          "text": [
            "/content/gdrive/My Drive/train\n"
          ]
        }
      ]
    },
    {
      "cell_type": "code",
      "metadata": {
        "colab": {
          "base_uri": "https://localhost:8080/"
        },
        "id": "okaViRQg_aDe",
        "outputId": "b5d98c81-285e-44a9-d85e-cf5a2c7a7c6f"
      },
      "source": [
        "training_images = tf.io.gfile.glob('/content/gdrive/My Drive/train/*/*')\n",
        "total_files = training_images\n",
        "train_images, val_images = train_test_split(total_files, test_size = 0.1,random_state=42)\n",
        "print(len(train_images))\n",
        "print(len(val_images))"
      ],
      "execution_count": null,
      "outputs": [
        {
          "output_type": "stream",
          "name": "stdout",
          "text": [
            "4694\n",
            "522\n"
          ]
        }
      ]
    },
    {
      "cell_type": "code",
      "metadata": {
        "colab": {
          "base_uri": "https://localhost:8080/",
          "height": 370
        },
        "id": "_FHNiTlLGG0v",
        "outputId": "24934618-a095-4067-c287-ad93687cd5a9"
      },
      "source": [
        "count_normal = len([x for x in train_images if \"NORMAL\" in x])\n",
        "print(f'Normal images count in training set: {count_normal}')\n",
        "\n",
        "count_pneumonia = len([x for x in train_images if \"PNEUMONIA\" in x])\n",
        "print(f'Pneumonia images count in training set: {count_pneumonia}')\n",
        "\n",
        "count_array = []\n",
        "count_array += ['positive']*count_pneumonia\n",
        "count_array += ['negative']*count_normal\n",
        "\n",
        "sns.set_style('ticks')\n",
        "sns.countplot(count_array)"
      ],
      "execution_count": null,
      "outputs": [
        {
          "output_type": "stream",
          "name": "stdout",
          "text": [
            "Normal images count in training set: 1191\n",
            "Pneumonia images count in training set: 3503\n"
          ]
        },
        {
          "output_type": "stream",
          "name": "stderr",
          "text": [
            "/usr/local/lib/python3.7/dist-packages/seaborn/_decorators.py:43: FutureWarning: Pass the following variable as a keyword arg: x. From version 0.12, the only valid positional argument will be `data`, and passing other arguments without an explicit keyword will result in an error or misinterpretation.\n",
            "  FutureWarning\n"
          ]
        },
        {
          "output_type": "execute_result",
          "data": {
            "text/plain": [
              "<matplotlib.axes._subplots.AxesSubplot at 0x7f9db9f02d50>"
            ]
          },
          "metadata": {},
          "execution_count": 7
        },
        {
          "output_type": "display_data",
          "data": {
            "image/png": "[encoded data removed]",
            "text/plain": [
              "<Figure size 432x288 with 1 Axes>"
            ]
          },
          "metadata": {}
        }
      ]
    },
    {
      "cell_type": "code",
      "metadata": {
        "id": "48v53uemGf8X"
      },
      "source": [
        "tf.io.gfile.makedirs('/content/gdrive/My Drive/val_dataset/negative/')\n",
        "tf.io.gfile.makedirs('/content/gdrive/My Drive/val_dataset/positive/')\n",
        "tf.io.gfile.makedirs('/content/gdrive/My Drive/train_dataset/negative/')\n",
        "tf.io.gfile.makedirs('/content/gdrive/My Drive/train_dataset/positive/')\n"
      ],
      "execution_count": null,
      "outputs": []
    },
    {
      "cell_type": "code",
      "metadata": {
        "colab": {
          "base_uri": "https://localhost:8080/"
        },
        "id": "FyBlDOaRHS7Z",
        "outputId": "7c6901d2-3c4f-489f-b335-bf269c18fef4"
      },
      "source": [
        "train_datagen = ImageDataGenerator(rescale = 1/255,\n",
        "                                 rotation_range = 30,\n",
        "                                 zoom_range = 0.2,\n",
        "                                 width_shift_range = 0.1,\n",
        "                                 height_shift_range = 0.1)\n",
        "val_datagen = ImageDataGenerator(rescale = 1/255)\n",
        "                                \n",
        "\n",
        "train_generator = train_datagen.flow_from_directory(\n",
        "    '/content/gdrive/My Drive/train_dataset/',\n",
        "    target_size = [300,300],\n",
        "    class_mode = 'binary'\n",
        ")\n",
        "\n",
        "validation_generator = val_datagen.flow_from_directory(\n",
        "    '/content/gdrive/My Drive/val_dataset/',\n",
        "    target_size = [300,300],\n",
        "    class_mode = 'binary')"
      ],
      "execution_count": null,
      "outputs": [
        {
          "output_type": "stream",
          "name": "stdout",
          "text": [
            "Found 4172 images belonging to 2 classes.\n",
            "Found 1044 images belonging to 2 classes.\n"
          ]
        }
      ]
    },
    {
      "cell_type": "code",
      "metadata": {
        "colab": {
          "base_uri": "https://localhost:8080/"
        },
        "id": "AZ-u2m_WQ8_4",
        "outputId": "af02f27a-4d5a-4d7a-adb2-1a3a9c0c1fb6"
      },
      "source": [
        "eval_datagen = ImageDataGenerator(rescale = 1/255)\n",
        "\n",
        "test_generator = eval_datagen.flow_from_directory(\n",
        "    '/content/gdrive/My Drive/test',\n",
        "    target_size =[300,300],\n",
        "    class_mode = 'binary')"
      ],
      "execution_count": null,
      "outputs": [
        {
          "output_type": "stream",
          "name": "stdout",
          "text": [
            "Found 859 images belonging to 2 classes.\n"
          ]
        }
      ]
    },
    {
      "cell_type": "code",
      "metadata": {
        "colab": {
          "base_uri": "https://localhost:8080/"
        },
        "id": "Kh4xdGleRF0H",
        "outputId": "1b412a25-2d08-4b70-c146-ac671879463b"
      },
      "source": [
        "weight_for_0 = (1 / count_normal)*(len(train_images))/2.0 \n",
        "weight_for_1 = (1 / count_pneumonia)*(len(train_images))/2.0\n",
        "\n",
        "class_weight = {0: weight_for_0, 1: weight_for_1}\n",
        "\n",
        "print('Weight for class 0: {:.2f}'.format(weight_for_0))\n",
        "print('Weight for class 1: {:.2f}'.format(weight_for_1))"
      ],
      "execution_count": null,
      "outputs": [
        {
          "output_type": "stream",
          "name": "stdout",
          "text": [
            "Weight for class 0: 1.97\n",
            "Weight for class 1: 0.67\n"
          ]
        }
      ]
    },
    {
      "cell_type": "code",
      "metadata": {
        "id": "K1i8cLfZRSf5",
        "colab": {
          "base_uri": "https://localhost:8080/"
        },
        "outputId": "4fba76e6-0583-459f-d1e4-63d1baaf9417"
      },
      "source": [
        "vgg=VGG16(input_shape=[300,300]+[3],weights='imagenet',include_top=False)\n",
        "for layer in vgg.layers:\n",
        "    layer.trainable=False"
      ],
      "execution_count": null,
      "outputs": [
        {
          "output_type": "stream",
          "name": "stdout",
          "text": [
            "Downloading data from https://storage.googleapis.com/tensorflow/keras-applications/vgg16/vgg16_weights_tf_dim_ordering_tf_kernels_notop.h5\n",
            "58892288/58889256 [==============================] - 0s 0us/step\n",
            "58900480/58889256 [==============================] - 0s 0us/step\n"
          ]
        }
      ]
    },
    {
      "cell_type": "code",
      "metadata": {
        "id": "wXwJ-7FRbXZK",
        "colab": {
          "base_uri": "https://localhost:8080/",
          "height": 215
        },
        "outputId": "2417eef9-278f-4b2c-eb40-7e4588024dbb"
      },
      "source": [
        "# INCEPTIONResNetV2\n",
        "inception=InceptionResNetV2(input_shape=[150,150]+[3],weights='imagenet',include_top=False)\n",
        "for layer in inception.layers:\n",
        "    layer.trainable=False"
      ],
      "execution_count": null,
      "outputs": [
        {
          "output_type": "error",
          "ename": "NameError",
          "evalue": "ignored",
          "traceback": [
            "\u001b[0;31m---------------------------------------------------------------------------\u001b[0m",
            "\u001b[0;31mNameError\u001b[0m                                 Traceback (most recent call last)",
            "\u001b[0;32m<ipython-input-13-c7594065d614>\u001b[0m in \u001b[0;36m<module>\u001b[0;34m()\u001b[0m\n\u001b[1;32m      1\u001b[0m \u001b[0;31m# INCEPTIONResNetV2\u001b[0m\u001b[0;34m\u001b[0m\u001b[0;34m\u001b[0m\u001b[0;34m\u001b[0m\u001b[0m\n\u001b[0;32m----> 2\u001b[0;31m \u001b[0minception\u001b[0m\u001b[0;34m=\u001b[0m\u001b[0mInceptionResNetV2\u001b[0m\u001b[0;34m(\u001b[0m\u001b[0minput_shape\u001b[0m\u001b[0;34m=\u001b[0m\u001b[0;34m[\u001b[0m\u001b[0;36m150\u001b[0m\u001b[0;34m,\u001b[0m\u001b[0;36m150\u001b[0m\u001b[0;34m]\u001b[0m\u001b[0;34m+\u001b[0m\u001b[0;34m[\u001b[0m\u001b[0;36m3\u001b[0m\u001b[0;34m]\u001b[0m\u001b[0;34m,\u001b[0m\u001b[0mweights\u001b[0m\u001b[0;34m=\u001b[0m\u001b[0;34m'imagenet'\u001b[0m\u001b[0;34m,\u001b[0m\u001b[0minclude_top\u001b[0m\u001b[0;34m=\u001b[0m\u001b[0;32mFalse\u001b[0m\u001b[0;34m)\u001b[0m\u001b[0;34m\u001b[0m\u001b[0;34m\u001b[0m\u001b[0m\n\u001b[0m\u001b[1;32m      3\u001b[0m \u001b[0;32mfor\u001b[0m \u001b[0mlayer\u001b[0m \u001b[0;32min\u001b[0m \u001b[0minception\u001b[0m\u001b[0;34m.\u001b[0m\u001b[0mlayers\u001b[0m\u001b[0;34m:\u001b[0m\u001b[0;34m\u001b[0m\u001b[0;34m\u001b[0m\u001b[0m\n\u001b[1;32m      4\u001b[0m     \u001b[0mlayer\u001b[0m\u001b[0;34m.\u001b[0m\u001b[0mtrainable\u001b[0m\u001b[0;34m=\u001b[0m\u001b[0;32mFalse\u001b[0m\u001b[0;34m\u001b[0m\u001b[0;34m\u001b[0m\u001b[0m\n",
            "\u001b[0;31mNameError\u001b[0m: name 'InceptionResNetV2' is not defined"
          ]
        }
      ]
    },
    {
      "cell_type": "code",
      "metadata": {
        "colab": {
          "base_uri": "https://localhost:8080/"
        },
        "id": "q71MxcdORVxx",
        "outputId": "7d215ed4-343b-4905-9a18-70691aeb5fc0"
      },
      "source": [
        "model=Sequential([vgg,\n",
        "                tf.keras.layers.Flatten(),\n",
        "                tf.keras.layers.Dense(256, activation=tf.nn.relu),\n",
        "                tf.keras.layers.Dropout(0.2),\n",
        "                tf.keras.layers.Dense(256, activation=tf.nn.relu),\n",
        "                tf.keras.layers.Dropout(0.2),\n",
        "                tf.keras.layers.Dense(1,activation=tf.nn.sigmoid)])\n",
        "model.compile(loss='binary_crossentropy',optimizer=RMSprop(lr=0.001),metrics=['accuracy',tf.keras.metrics.Precision(name='precision'),\n",
        "        tf.keras.metrics.Recall(name='recall')])\n",
        "model.summary()"
      ],
      "execution_count": null,
      "outputs": [
        {
          "output_type": "stream",
          "name": "stdout",
          "text": [
            "Model: \"sequential\"\n",
            "_________________________________________________________________\n",
            " Layer (type)                Output Shape              Param #   \n",
            "=================================================================\n",
            " vgg16 (Functional)          (None, 9, 9, 512)         14714688  \n",
            "                                                                 \n",
            " flatten (Flatten)           (None, 41472)             0         \n",
            "                                                                 \n",
            " dense (Dense)               (None, 256)               10617088  \n",
            "                                                                 \n",
            " dropout (Dropout)           (None, 256)               0         \n",
            "                                                                 \n",
            " dense_1 (Dense)             (None, 256)               65792     \n",
            "                                                                 \n",
            " dropout_1 (Dropout)         (None, 256)               0         \n",
            "                                                                 \n",
            " dense_2 (Dense)             (None, 1)                 257       \n",
            "                                                                 \n",
            "=================================================================\n",
            "Total params: 25,397,825\n",
            "Trainable params: 10,683,137\n",
            "Non-trainable params: 14,714,688\n",
            "_________________________________________________________________\n"
          ]
        },
        {
          "output_type": "stream",
          "name": "stderr",
          "text": [
            "/usr/local/lib/python3.7/dist-packages/keras/optimizer_v2/rmsprop.py:130: UserWarning: The `lr` argument is deprecated, use `learning_rate` instead.\n",
            "  super(RMSprop, self).__init__(name, **kwargs)\n"
          ]
        }
      ]
    },
    {
      "cell_type": "code",
      "metadata": {
        "colab": {
          "base_uri": "https://localhost:8080/"
        },
        "id": "EN8cl9AlRYsV",
        "outputId": "0036d94d-4bb3-433a-8063-9d9438c41d6a"
      },
      "source": [
        "checkpoint_cb1 = tf.keras.callbacks.ModelCheckpoint(\"model1_vgg.h5\",save_best_only=True)\n",
        "\n",
        "early_stopping_cb1 = tf.keras.callbacks.EarlyStopping(monitor ='val_loss', patience=20, mode = 'min',restore_best_weights=True)\n",
        "history1 = model.fit(\n",
        "    train_generator,\n",
        "    steps_per_epoch = 64,\n",
        "    epochs = 25,\n",
        "    validation_data = validation_generator,\n",
        "    class_weight = class_weight,\n",
        "    callbacks = [early_stopping_cb1,checkpoint_cb1])"
      ],
      "execution_count": null,
      "outputs": [
        {
          "output_type": "stream",
          "name": "stdout",
          "text": [
            "Epoch 1/25\n",
            "64/64 [==============================] - 873s 13s/step - loss: 1.4407 - accuracy: 0.6928 - precision: 0.8668 - recall: 0.6756 - val_loss: 0.6439 - val_accuracy: 0.6590 - val_precision: 0.9978 - val_recall: 0.5568\n",
            "Epoch 2/25\n",
            "64/64 [==============================] - 303s 5s/step - loss: 0.3721 - accuracy: 0.8501 - precision: 0.9531 - recall: 0.8389 - val_loss: 0.3770 - val_accuracy: 0.8132 - val_precision: 0.9967 - val_recall: 0.7591\n",
            "Epoch 3/25\n",
            "64/64 [==============================] - 187s 3s/step - loss: 0.3139 - accuracy: 0.8809 - precision: 0.9664 - recall: 0.8667 - val_loss: 1.4782 - val_accuracy: 0.5517 - val_precision: 1.0000 - val_recall: 0.4157\n",
            "Epoch 4/25\n",
            "64/64 [==============================] - 123s 2s/step - loss: 0.2920 - accuracy: 0.8896 - precision: 0.9686 - recall: 0.8787 - val_loss: 0.3141 - val_accuracy: 0.8554 - val_precision: 0.9939 - val_recall: 0.8165\n",
            "Epoch 5/25\n",
            "64/64 [==============================] - 91s 1s/step - loss: 0.2641 - accuracy: 0.8994 - precision: 0.9685 - recall: 0.8916 - val_loss: 0.4251 - val_accuracy: 0.7969 - val_precision: 0.9983 - val_recall: 0.7366\n",
            "Epoch 6/25\n",
            "64/64 [==============================] - 83s 1s/step - loss: 0.2575 - accuracy: 0.9004 - precision: 0.9658 - recall: 0.8968 - val_loss: 0.1587 - val_accuracy: 0.9416 - val_precision: 0.9920 - val_recall: 0.9313\n",
            "Epoch 7/25\n",
            "64/64 [==============================] - 73s 1s/step - loss: 0.2500 - accuracy: 0.9033 - precision: 0.9763 - recall: 0.8918 - val_loss: 0.1911 - val_accuracy: 0.9157 - val_precision: 0.9917 - val_recall: 0.8976\n",
            "Epoch 8/25\n",
            "64/64 [==============================] - 71s 1s/step - loss: 0.2123 - accuracy: 0.9209 - precision: 0.9809 - recall: 0.9111 - val_loss: 0.4171 - val_accuracy: 0.8008 - val_precision: 0.9983 - val_recall: 0.7416\n",
            "Epoch 9/25\n",
            "64/64 [==============================] - 66s 1s/step - loss: 0.2557 - accuracy: 0.9103 - precision: 0.9713 - recall: 0.9051 - val_loss: 0.4467 - val_accuracy: 0.8458 - val_precision: 0.9984 - val_recall: 0.8002\n",
            "Epoch 10/25\n",
            "64/64 [==============================] - 69s 1s/step - loss: 0.1996 - accuracy: 0.9265 - precision: 0.9809 - recall: 0.9189 - val_loss: 0.1489 - val_accuracy: 0.9406 - val_precision: 0.9920 - val_recall: 0.9301\n",
            "Epoch 11/25\n",
            "64/64 [==============================] - 68s 1s/step - loss: 0.1661 - accuracy: 0.9360 - precision: 0.9789 - recall: 0.9323 - val_loss: 0.1570 - val_accuracy: 0.9444 - val_precision: 0.9921 - val_recall: 0.9351\n",
            "Epoch 12/25\n",
            "64/64 [==============================] - 68s 1s/step - loss: 0.2320 - accuracy: 0.9194 - precision: 0.9724 - recall: 0.9161 - val_loss: 0.2486 - val_accuracy: 0.9013 - val_precision: 0.9943 - val_recall: 0.8764\n",
            "Epoch 13/25\n",
            "64/64 [==============================] - 68s 1s/step - loss: 0.2130 - accuracy: 0.9297 - precision: 0.9750 - recall: 0.9262 - val_loss: 0.2599 - val_accuracy: 0.8851 - val_precision: 0.9971 - val_recall: 0.8527\n",
            "Epoch 14/25\n",
            "64/64 [==============================] - 69s 1s/step - loss: 0.2197 - accuracy: 0.9265 - precision: 0.9709 - recall: 0.9269 - val_loss: 0.1487 - val_accuracy: 0.9492 - val_precision: 0.9921 - val_recall: 0.9413\n",
            "Epoch 15/25\n",
            "64/64 [==============================] - 69s 1s/step - loss: 0.2091 - accuracy: 0.9344 - precision: 0.9796 - recall: 0.9304 - val_loss: 0.3341 - val_accuracy: 0.8563 - val_precision: 0.9969 - val_recall: 0.8152\n",
            "Epoch 16/25\n",
            "64/64 [==============================] - 67s 1s/step - loss: 0.2077 - accuracy: 0.9321 - precision: 0.9756 - recall: 0.9309 - val_loss: 0.2688 - val_accuracy: 0.8736 - val_precision: 0.9941 - val_recall: 0.8402\n",
            "Epoch 17/25\n",
            "64/64 [==============================] - 68s 1s/step - loss: 0.2070 - accuracy: 0.9277 - precision: 0.9782 - recall: 0.9225 - val_loss: 0.1489 - val_accuracy: 0.9320 - val_precision: 0.9919 - val_recall: 0.9189\n",
            "Epoch 18/25\n",
            "64/64 [==============================] - 69s 1s/step - loss: 0.1564 - accuracy: 0.9344 - precision: 0.9779 - recall: 0.9308 - val_loss: 0.1227 - val_accuracy: 0.9502 - val_precision: 0.9895 - val_recall: 0.9451\n",
            "Epoch 19/25\n",
            "64/64 [==============================] - 68s 1s/step - loss: 0.2124 - accuracy: 0.9248 - precision: 0.9768 - recall: 0.9200 - val_loss: 0.1671 - val_accuracy: 0.9320 - val_precision: 0.9932 - val_recall: 0.9176\n",
            "Epoch 20/25\n",
            "64/64 [==============================] - 66s 1s/step - loss: 0.1855 - accuracy: 0.9374 - precision: 0.9809 - recall: 0.9327 - val_loss: 0.5147 - val_accuracy: 0.7586 - val_precision: 1.0000 - val_recall: 0.6854\n",
            "Epoch 21/25\n",
            "64/64 [==============================] - 67s 1s/step - loss: 0.1790 - accuracy: 0.9344 - precision: 0.9824 - recall: 0.9281 - val_loss: 0.1925 - val_accuracy: 0.9234 - val_precision: 0.9932 - val_recall: 0.9064\n",
            "Epoch 22/25\n",
            "64/64 [==============================] - 67s 1s/step - loss: 0.1860 - accuracy: 0.9395 - precision: 0.9815 - recall: 0.9366 - val_loss: 0.1347 - val_accuracy: 0.9416 - val_precision: 0.9920 - val_recall: 0.9313\n",
            "Epoch 23/25\n",
            "64/64 [==============================] - 68s 1s/step - loss: 0.1827 - accuracy: 0.9351 - precision: 0.9775 - recall: 0.9324 - val_loss: 0.1594 - val_accuracy: 0.9377 - val_precision: 0.9920 - val_recall: 0.9263\n",
            "Epoch 24/25\n",
            "64/64 [==============================] - 68s 1s/step - loss: 0.1716 - accuracy: 0.9349 - precision: 0.9764 - recall: 0.9348 - val_loss: 0.2259 - val_accuracy: 0.9071 - val_precision: 0.9944 - val_recall: 0.8839\n",
            "Epoch 25/25\n",
            "64/64 [==============================] - 69s 1s/step - loss: 0.1686 - accuracy: 0.9409 - precision: 0.9805 - recall: 0.9405 - val_loss: 0.1037 - val_accuracy: 0.9579 - val_precision: 0.9897 - val_recall: 0.9551\n"
          ]
        }
      ]
    },
    {
      "cell_type": "code",
      "metadata": {
        "colab": {
          "base_uri": "https://localhost:8080/",
          "height": 499
        },
        "id": "hFrm-4EsfgzN",
        "outputId": "ad839157-47f7-4c3f-9138-39c985ed151c"
      },
      "source": [
        "acc = history1.history['accuracy']\n",
        "val_acc = history1.history['val_accuracy']\n",
        "\n",
        "loss = history1.history['loss']\n",
        "val_loss = history1.history['val_loss']\n",
        "\n",
        "epochs_range = range(25)\n",
        "\n",
        "plt.figure(figsize=(8, 8))\n",
        "plt.subplot(1, 2, 1)\n",
        "plt.plot(epochs_range, acc, label='Training Accuracy')\n",
        "plt.plot(epochs_range, val_acc, label='Validation Accuracy')\n",
        "plt.legend(loc='lower right')\n",
        "plt.title('Training and Validation Accuracy')\n",
        "\n",
        "plt.subplot(1, 2, 2)\n",
        "plt.plot(epochs_range, loss, label='Training Loss')\n",
        "plt.plot(epochs_range, val_loss, label='Validation Loss')\n",
        "plt.legend(loc='upper right')\n",
        "plt.title('Training and Validation Loss')\n",
        "plt.show()"
      ],
      "execution_count": null,
      "outputs": [
        {
          "output_type": "display_data",
          "data": {
            "image/png": "[encoded data removed]",
            "text/plain": [
              "<Figure size 576x576 with 2 Axes>"
            ]
          },
          "metadata": {}
        }
      ]
    },
    {
      "cell_type": "code",
      "metadata": {
        "colab": {
          "base_uri": "https://localhost:8080/"
        },
        "id": "7ZBeBsnzOWOF",
        "outputId": "e0b45370-ced9-4fd7-c27b-dbe93550520d"
      },
      "source": [
        "eval_result1=model.evaluate_generator(test_generator)\n",
        "print('loss rate on evaluation data :', eval_result1[0])\n",
        "print('accuracy rate on evaluation data :', eval_result1[1])\n",
        "print('precision on evaluation data :', eval_result1[2])\n",
        "print('Recall on evaluation data :', eval_result1[3])"
      ],
      "execution_count": null,
      "outputs": [
        {
          "output_type": "stream",
          "name": "stderr",
          "text": [
            "/usr/local/lib/python3.7/dist-packages/ipykernel_launcher.py:1: UserWarning: `Model.evaluate_generator` is deprecated and will be removed in a future version. Please use `Model.evaluate`, which supports generators.\n",
            "  \"\"\"Entry point for launching an IPython kernel.\n"
          ]
        },
        {
          "output_type": "stream",
          "name": "stdout",
          "text": [
            "loss rate on evaluation data : 0.23110218346118927\n",
            "accuracy rate on evaluation data : 0.9266589283943176\n",
            "precision on evaluation data : 0.9169139266014099\n",
            "Recall on evaluation data : 0.9887999892234802\n"
          ]
        }
      ]
    },
    {
      "cell_type": "code",
      "metadata": {
        "id": "G9Jjey22W6ct"
      },
      "source": [
        "class_vgg=model.predict(test_generator)\n"
      ],
      "execution_count": null,
      "outputs": []
    },
    {
      "cell_type": "code",
      "metadata": {
        "id": "_8Dl9cZ5mUU3"
      },
      "source": [
        "for i in range (class_vgg.shape[0]):\n",
        "  if class_vgg[i]<=0.5:\n",
        "    class_vgg[i]==0\n",
        "  else:\n",
        "    class_vgg[i]==1"
      ],
      "execution_count": null,
      "outputs": []
    },
    {
      "cell_type": "code",
      "metadata": {
        "colab": {
          "base_uri": "https://localhost:8080/",
          "height": 324
        },
        "id": "jinkpYfReJMs",
        "outputId": "ad3b1f27-7b94-4784-d7a1-98baf23612a1"
      },
      "source": [
        "print(confusion_matrix(test_generator.classes, class_vgg))\n",
        "pd.DataFrame(classification_report(test_generator.classes, class_vgg, output_dict=True))"
      ],
      "execution_count": null,
      "outputs": [
        {
          "output_type": "error",
          "ename": "ValueError",
          "evalue": "ignored",
          "traceback": [
            "\u001b[0;31m---------------------------------------------------------------------------\u001b[0m",
            "\u001b[0;31mValueError\u001b[0m                                Traceback (most recent call last)",
            "\u001b[0;32m<ipython-input-32-c867f81f869e>\u001b[0m in \u001b[0;36m<module>\u001b[0;34m()\u001b[0m\n\u001b[0;32m----> 1\u001b[0;31m \u001b[0mprint\u001b[0m\u001b[0;34m(\u001b[0m\u001b[0mconfusion_matrix\u001b[0m\u001b[0;34m(\u001b[0m\u001b[0mtest_generator\u001b[0m\u001b[0;34m.\u001b[0m\u001b[0mclasses\u001b[0m\u001b[0;34m,\u001b[0m \u001b[0mclass_vgg\u001b[0m\u001b[0;34m)\u001b[0m\u001b[0;34m)\u001b[0m\u001b[0;34m\u001b[0m\u001b[0;34m\u001b[0m\u001b[0m\n\u001b[0m\u001b[1;32m      2\u001b[0m \u001b[0mpd\u001b[0m\u001b[0;34m.\u001b[0m\u001b[0mDataFrame\u001b[0m\u001b[0;34m(\u001b[0m\u001b[0mclassification_report\u001b[0m\u001b[0;34m(\u001b[0m\u001b[0mtest_generator\u001b[0m\u001b[0;34m.\u001b[0m\u001b[0mclasses\u001b[0m\u001b[0;34m,\u001b[0m \u001b[0mclass_vgg\u001b[0m\u001b[0;34m,\u001b[0m \u001b[0moutput_dict\u001b[0m\u001b[0;34m=\u001b[0m\u001b[0;32mTrue\u001b[0m\u001b[0;34m)\u001b[0m\u001b[0;34m)\u001b[0m\u001b[0;34m\u001b[0m\u001b[0;34m\u001b[0m\u001b[0m\n",
            "\u001b[0;32m/usr/local/lib/python3.7/dist-packages/sklearn/metrics/_classification.py\u001b[0m in \u001b[0;36mconfusion_matrix\u001b[0;34m(y_true, y_pred, labels, sample_weight, normalize)\u001b[0m\n\u001b[1;32m    266\u001b[0m \u001b[0;34m\u001b[0m\u001b[0m\n\u001b[1;32m    267\u001b[0m     \"\"\"\n\u001b[0;32m--> 268\u001b[0;31m     \u001b[0my_type\u001b[0m\u001b[0;34m,\u001b[0m \u001b[0my_true\u001b[0m\u001b[0;34m,\u001b[0m \u001b[0my_pred\u001b[0m \u001b[0;34m=\u001b[0m \u001b[0m_check_targets\u001b[0m\u001b[0;34m(\u001b[0m\u001b[0my_true\u001b[0m\u001b[0;34m,\u001b[0m \u001b[0my_pred\u001b[0m\u001b[0;34m)\u001b[0m\u001b[0;34m\u001b[0m\u001b[0;34m\u001b[0m\u001b[0m\n\u001b[0m\u001b[1;32m    269\u001b[0m     \u001b[0;32mif\u001b[0m \u001b[0my_type\u001b[0m \u001b[0;32mnot\u001b[0m \u001b[0;32min\u001b[0m \u001b[0;34m(\u001b[0m\u001b[0;34m\"binary\"\u001b[0m\u001b[0;34m,\u001b[0m \u001b[0;34m\"multiclass\"\u001b[0m\u001b[0;34m)\u001b[0m\u001b[0;34m:\u001b[0m\u001b[0;34m\u001b[0m\u001b[0;34m\u001b[0m\u001b[0m\n\u001b[1;32m    270\u001b[0m         \u001b[0;32mraise\u001b[0m \u001b[0mValueError\u001b[0m\u001b[0;34m(\u001b[0m\u001b[0;34m\"%s is not supported\"\u001b[0m \u001b[0;34m%\u001b[0m \u001b[0my_type\u001b[0m\u001b[0;34m)\u001b[0m\u001b[0;34m\u001b[0m\u001b[0;34m\u001b[0m\u001b[0m\n",
            "\u001b[0;32m/usr/local/lib/python3.7/dist-packages/sklearn/metrics/_classification.py\u001b[0m in \u001b[0;36m_check_targets\u001b[0;34m(y_true, y_pred)\u001b[0m\n\u001b[1;32m     88\u001b[0m     \u001b[0;32mif\u001b[0m \u001b[0mlen\u001b[0m\u001b[0;34m(\u001b[0m\u001b[0my_type\u001b[0m\u001b[0;34m)\u001b[0m \u001b[0;34m>\u001b[0m \u001b[0;36m1\u001b[0m\u001b[0;34m:\u001b[0m\u001b[0;34m\u001b[0m\u001b[0;34m\u001b[0m\u001b[0m\n\u001b[1;32m     89\u001b[0m         raise ValueError(\"Classification metrics can't handle a mix of {0} \"\n\u001b[0;32m---> 90\u001b[0;31m                          \"and {1} targets\".format(type_true, type_pred))\n\u001b[0m\u001b[1;32m     91\u001b[0m \u001b[0;34m\u001b[0m\u001b[0m\n\u001b[1;32m     92\u001b[0m     \u001b[0;31m# We can't have more than one value on y_type => The set is no more needed\u001b[0m\u001b[0;34m\u001b[0m\u001b[0;34m\u001b[0m\u001b[0;34m\u001b[0m\u001b[0m\n",
            "\u001b[0;31mValueError\u001b[0m: Classification metrics can't handle a mix of binary and continuous targets"
          ]
        }
      ]
    },
    {
      "cell_type": "markdown",
      "metadata": {
        "id": "oRcYVwoAiiI6"
      },
      "source": [
        "#Model of InceptionResnetV2\n"
      ]
    },
    {
      "cell_type": "code",
      "metadata": {
        "id": "XEDvCr-cr1ez"
      },
      "source": [
        ""
      ],
      "execution_count": null,
      "outputs": []
    },
    {
      "cell_type": "code",
      "metadata": {
        "colab": {
          "base_uri": "https://localhost:8080/"
        },
        "id": "JBjnZKaHNYxA",
        "outputId": "f554a1c2-40ac-4b68-d301-80dc5db12b15"
      },
      "source": [
        "# Model for InceptionResnetV2\n",
        "model_inception=Sequential([inception,\n",
        "                tf.keras.layers.Flatten(), \n",
        "                tf.keras.layers.Dense(512,activation=tf.nn.relu),\n",
        "                tf.keras.layers.Dropout(0.5),\n",
        "                tf.keras.layers.Dense(512,activation=tf.nn.relu),\n",
        "                tf.keras.layers.Dropout(0.7),\n",
        "                tf.keras.layers.Dense(1,activation=tf.nn.sigmoid)])\n",
        "model_inception.compile(loss='binary_crossentropy',optimizer=RMSprop(lr=0.001),metrics=['accuracy',tf.keras.metrics.Precision(name='precision'),\n",
        "        tf.keras.metrics.Recall(name='recall')])\n",
        "model_inception.summary()"
      ],
      "execution_count": null,
      "outputs": [
        {
          "output_type": "stream",
          "text": [
            "Model: \"sequential_1\"\n",
            "_________________________________________________________________\n",
            "Layer (type)                 Output Shape              Param #   \n",
            "=================================================================\n",
            "inception_resnet_v2 (Functio (None, 3, 3, 1536)        54336736  \n",
            "_________________________________________________________________\n",
            "flatten_1 (Flatten)          (None, 13824)             0         \n",
            "_________________________________________________________________\n",
            "dense_3 (Dense)              (None, 512)               7078400   \n",
            "_________________________________________________________________\n",
            "dropout_2 (Dropout)          (None, 512)               0         \n",
            "_________________________________________________________________\n",
            "dense_4 (Dense)              (None, 512)               262656    \n",
            "_________________________________________________________________\n",
            "dropout_3 (Dropout)          (None, 512)               0         \n",
            "_________________________________________________________________\n",
            "dense_5 (Dense)              (None, 1)                 513       \n",
            "=================================================================\n",
            "Total params: 61,678,305\n",
            "Trainable params: 7,341,569\n",
            "Non-trainable params: 54,336,736\n",
            "_________________________________________________________________\n"
          ],
          "name": "stdout"
        }
      ]
    },
    {
      "cell_type": "code",
      "metadata": {
        "colab": {
          "base_uri": "https://localhost:8080/"
        },
        "id": "qtqkvePcho7J",
        "outputId": "8e4a7dd3-781e-40b3-9262-800baf6f9dc6"
      },
      "source": [
        "checkpoint_cb1 = tf.keras.callbacks.ModelCheckpoint(\"model1_inception.h5\",\n",
        "                                                    save_best_only=True)\n",
        "early_stopping_cb1 = tf.keras.callbacks.EarlyStopping(monitor ='val_loss', patience=10, mode = 'min',restore_best_weights=True)\n",
        "history3 = model_inception.fit(\n",
        "    train_generator,\n",
        "    steps_per_epoch = 10,\n",
        "    epochs = 20,\n",
        "    validation_data = validation_generator,\n",
        "    class_weight=class_weight)\n",
        " "
      ],
      "execution_count": null,
      "outputs": [
        {
          "output_type": "stream",
          "text": [
            "Epoch 1/20\n",
            "10/10 [==============================] - 46s 2s/step - loss: 7.6033 - accuracy: 0.5769 - precision: 0.7552 - recall: 0.5726 - val_loss: 38368.8203 - val_accuracy: 0.2826 - val_precision: 0.9815 - val_recall: 0.0662\n",
            "Epoch 2/20\n",
            "10/10 [==============================] - 15s 2s/step - loss: 1.9413 - accuracy: 0.7379 - precision: 0.8477 - recall: 0.8171 - val_loss: 553.0750 - val_accuracy: 0.7759 - val_precision: 0.9522 - val_recall: 0.7453\n",
            "Epoch 3/20\n",
            "10/10 [==============================] - 16s 2s/step - loss: 0.3023 - accuracy: 0.8806 - precision: 0.9674 - recall: 0.8677 - val_loss: 110.5588 - val_accuracy: 0.8611 - val_precision: 0.9726 - val_recall: 0.8427\n",
            "Epoch 4/20\n",
            "10/10 [==============================] - 16s 2s/step - loss: 3.1057 - accuracy: 0.8721 - precision: 0.9413 - recall: 0.8602 - val_loss: 750.5892 - val_accuracy: 0.4425 - val_precision: 0.9740 - val_recall: 0.2809\n",
            "Epoch 5/20\n",
            "10/10 [==============================] - 16s 2s/step - loss: 0.6694 - accuracy: 0.8714 - precision: 0.9478 - recall: 0.8697 - val_loss: 104.9819 - val_accuracy: 0.8688 - val_precision: 0.8952 - val_recall: 0.9388\n",
            "Epoch 6/20\n",
            "10/10 [==============================] - 16s 2s/step - loss: 0.5188 - accuracy: 0.9063 - precision: 0.9767 - recall: 0.8935 - val_loss: 2.1169 - val_accuracy: 0.8496 - val_precision: 0.8375 - val_recall: 0.9975\n",
            "Epoch 7/20\n",
            "10/10 [==============================] - 16s 2s/step - loss: 0.1628 - accuracy: 0.9545 - precision: 0.9910 - recall: 0.9480 - val_loss: 1.4432 - val_accuracy: 0.9454 - val_precision: 0.9366 - val_recall: 0.9963\n",
            "Epoch 8/20\n",
            "10/10 [==============================] - 16s 2s/step - loss: 0.7156 - accuracy: 0.9139 - precision: 0.9724 - recall: 0.8965 - val_loss: 268.0104 - val_accuracy: 0.6082 - val_precision: 0.8843 - val_recall: 0.5630\n",
            "Epoch 9/20\n",
            "10/10 [==============================] - 16s 2s/step - loss: 0.9874 - accuracy: 0.8027 - precision: 0.9127 - recall: 0.8081 - val_loss: 0.3968 - val_accuracy: 0.8563 - val_precision: 0.8430 - val_recall: 0.9988\n",
            "Epoch 10/20\n",
            "10/10 [==============================] - 16s 2s/step - loss: 0.6432 - accuracy: 0.9361 - precision: 0.9910 - recall: 0.9205 - val_loss: 14.0865 - val_accuracy: 0.9234 - val_precision: 0.9120 - val_recall: 0.9963\n",
            "Epoch 11/20\n",
            "10/10 [==============================] - 15s 2s/step - loss: 0.1651 - accuracy: 0.9186 - precision: 0.9745 - recall: 0.9156 - val_loss: 252.6885 - val_accuracy: 0.7107 - val_precision: 0.7807 - val_recall: 0.8664\n",
            "Epoch 12/20\n",
            "10/10 [==============================] - 15s 2s/step - loss: 0.1809 - accuracy: 0.9614 - precision: 0.9811 - recall: 0.9657 - val_loss: 4.6221 - val_accuracy: 0.8352 - val_precision: 0.9362 - val_recall: 0.8427\n",
            "Epoch 13/20\n",
            "10/10 [==============================] - 15s 2s/step - loss: 0.2042 - accuracy: 0.9264 - precision: 0.9793 - recall: 0.9224 - val_loss: 5.0127 - val_accuracy: 0.8056 - val_precision: 0.8955 - val_recall: 0.8452\n",
            "Epoch 14/20\n",
            "10/10 [==============================] - 16s 2s/step - loss: 0.1169 - accuracy: 0.9517 - precision: 0.9938 - recall: 0.9411 - val_loss: 726.0762 - val_accuracy: 0.8266 - val_precision: 0.9493 - val_recall: 0.8177\n",
            "Epoch 15/20\n",
            "10/10 [==============================] - 16s 2s/step - loss: 0.3571 - accuracy: 0.8814 - precision: 0.9409 - recall: 0.8949 - val_loss: 1.4742 - val_accuracy: 0.9128 - val_precision: 0.9721 - val_recall: 0.9126\n",
            "Epoch 16/20\n",
            "10/10 [==============================] - 16s 2s/step - loss: 0.2615 - accuracy: 0.9018 - precision: 0.9798 - recall: 0.8932 - val_loss: 3.5922 - val_accuracy: 0.9109 - val_precision: 0.9436 - val_recall: 0.9401\n",
            "Epoch 17/20\n",
            "10/10 [==============================] - 16s 2s/step - loss: 0.2608 - accuracy: 0.8974 - precision: 0.9745 - recall: 0.8906 - val_loss: 91.5761 - val_accuracy: 0.7835 - val_precision: 0.8234 - val_recall: 0.9139\n",
            "Epoch 18/20\n",
            "10/10 [==============================] - 15s 2s/step - loss: 2.5368 - accuracy: 0.9202 - precision: 0.9611 - recall: 0.9380 - val_loss: 1094.9662 - val_accuracy: 0.8985 - val_precision: 0.9472 - val_recall: 0.9189\n",
            "Epoch 19/20\n",
            "10/10 [==============================] - 16s 2s/step - loss: 0.2979 - accuracy: 0.9172 - precision: 0.9667 - recall: 0.9185 - val_loss: 127.3364 - val_accuracy: 0.9377 - val_precision: 0.9612 - val_recall: 0.9576\n",
            "Epoch 20/20\n",
            "10/10 [==============================] - 15s 2s/step - loss: 0.4239 - accuracy: 0.8927 - precision: 0.9545 - recall: 0.8918 - val_loss: 3.0575 - val_accuracy: 0.9234 - val_precision: 0.9959 - val_recall: 0.9039\n"
          ],
          "name": "stdout"
        }
      ]
    },
    {
      "cell_type": "code",
      "metadata": {
        "colab": {
          "base_uri": "https://localhost:8080/"
        },
        "id": "yKZMnA9xhzrg",
        "outputId": "07788acd-11b1-44a6-90e2-223395df80e3"
      },
      "source": [
        "eval_result1=model_inception.evaluate(test_generator)\n",
        "print('loss rate on evaluation data :', eval_result1[0])\n",
        "print('accuracy rate on evaluation data :', eval_result1[1])\n",
        "print('Precision on evaluation data :', eval_result1[2])\n",
        "print('Recall on evaluation data :', eval_result1[3])"
      ],
      "execution_count": null,
      "outputs": [
        {
          "output_type": "stream",
          "text": [
            "27/27 [==============================] - 7s 272ms/step - loss: 65.5445 - accuracy: 0.9336 - precision: 0.9343 - recall: 0.9776\n",
            "loss rate on evaluation data : 65.54446411132812\n",
            "accuracy rate on evaluation data : 0.9336437582969666\n",
            "Precision on evaluation data : 0.9342507719993591\n",
            "Recall on evaluation data : 0.9775999784469604\n"
          ],
          "name": "stdout"
        }
      ]
    },
    {
      "cell_type": "code",
      "metadata": {
        "colab": {
          "base_uri": "https://localhost:8080/"
        },
        "id": "_8U2z2WdVjoX",
        "outputId": "86aee503-1825-4a48-ff7a-d1db91d2bb7f"
      },
      "source": [
        "class_inception=model_inception.predict_classes(test_generator)"
      ],
      "execution_count": null,
      "outputs": [
        {
          "output_type": "stream",
          "text": [
            "/usr/local/lib/python3.7/dist-packages/tensorflow/python/keras/engine/sequential.py:450: UserWarning: `model.predict_classes()` is deprecated and will be removed after 2021-01-01. Please use instead:* `np.argmax(model.predict(x), axis=-1)`,   if your model does multi-class classification   (e.g. if it uses a `softmax` last-layer activation).* `(model.predict(x) > 0.5).astype(\"int32\")`,   if your model does binary classification   (e.g. if it uses a `sigmoid` last-layer activation).\n",
            "  warnings.warn('`model.predict_classes()` is deprecated and '\n"
          ],
          "name": "stderr"
        }
      ]
    },
    {
      "cell_type": "code",
      "metadata": {
        "colab": {
          "base_uri": "https://localhost:8080/",
          "height": 207
        },
        "id": "QBZa0KGl0_jv",
        "outputId": "2faff7b4-9b5c-4510-db63-d032b00ba916"
      },
      "source": [
        "print(confusion_matrix(test_generator.classes,class_inception))\n",
        "pd.DataFrame(classification_report(test_generator.classes,class_inception, output_dict=True))"
      ],
      "execution_count": null,
      "outputs": [
        {
          "output_type": "stream",
          "text": [
            "[[ 55 179]\n",
            " [150 475]]\n"
          ],
          "name": "stdout"
        },
        {
          "output_type": "execute_result",
          "data": {
            "text/html": [
              "<div>\n",
              "<style scoped>\n",
              "    .dataframe tbody tr th:only-of-type {\n",
              "        vertical-align: middle;\n",
              "    }\n",
              "\n",
              "    .dataframe tbody tr th {\n",
              "        vertical-align: top;\n",
              "    }\n",
              "\n",
              "    .dataframe thead th {\n",
              "        text-align: right;\n",
              "    }\n",
              "</style>\n",
              "<table border=\"1\" class=\"dataframe\">\n",
              "  <thead>\n",
              "    <tr style=\"text-align: right;\">\n",
              "      <th></th>\n",
              "      <th>0</th>\n",
              "      <th>1</th>\n",
              "      <th>accuracy</th>\n",
              "      <th>macro avg</th>\n",
              "      <th>weighted avg</th>\n",
              "    </tr>\n",
              "  </thead>\n",
              "  <tbody>\n",
              "    <tr>\n",
              "      <th>precision</th>\n",
              "      <td>0.268293</td>\n",
              "      <td>0.726300</td>\n",
              "      <td>0.616997</td>\n",
              "      <td>0.497296</td>\n",
              "      <td>0.601534</td>\n",
              "    </tr>\n",
              "    <tr>\n",
              "      <th>recall</th>\n",
              "      <td>0.235043</td>\n",
              "      <td>0.760000</td>\n",
              "      <td>0.616997</td>\n",
              "      <td>0.497521</td>\n",
              "      <td>0.616997</td>\n",
              "    </tr>\n",
              "    <tr>\n",
              "      <th>f1-score</th>\n",
              "      <td>0.250569</td>\n",
              "      <td>0.742768</td>\n",
              "      <td>0.616997</td>\n",
              "      <td>0.496669</td>\n",
              "      <td>0.608688</td>\n",
              "    </tr>\n",
              "    <tr>\n",
              "      <th>support</th>\n",
              "      <td>234.000000</td>\n",
              "      <td>625.000000</td>\n",
              "      <td>0.616997</td>\n",
              "      <td>859.000000</td>\n",
              "      <td>859.000000</td>\n",
              "    </tr>\n",
              "  </tbody>\n",
              "</table>\n",
              "</div>"
            ],
            "text/plain": [
              "                    0           1  accuracy   macro avg  weighted avg\n",
              "precision    0.268293    0.726300  0.616997    0.497296      0.601534\n",
              "recall       0.235043    0.760000  0.616997    0.497521      0.616997\n",
              "f1-score     0.250569    0.742768  0.616997    0.496669      0.608688\n",
              "support    234.000000  625.000000  0.616997  859.000000    859.000000"
            ]
          },
          "metadata": {
            "tags": []
          },
          "execution_count": 345
        }
      ]
    },
    {
      "cell_type": "code",
      "metadata": {
        "colab": {
          "base_uri": "https://localhost:8080/",
          "height": 499
        },
        "id": "y1Ry9ilXW6_i",
        "outputId": "527e9ae3-03e7-429a-9cc9-e2263740cefa"
      },
      "source": [
        "acc = history3.history['accuracy']\n",
        "val_acc = history3.history['val_accuracy']\n",
        "\n",
        "loss = history3.history['loss']\n",
        "val_loss = history3.history['val_loss']\n",
        "\n",
        "epochs_range = range(20)\n",
        "\n",
        "plt.figure(figsize=(8, 8))\n",
        "plt.subplot(1, 2, 1)\n",
        "plt.plot(epochs_range, acc, label='Training Accuracy')\n",
        "plt.plot(epochs_range, val_acc, label='Validation Accuracy')\n",
        "plt.legend(loc='lower right')\n",
        "plt.title('Training and Validation Accuracy')\n",
        "\n",
        "plt.subplot(1, 2, 2)\n",
        "plt.plot(epochs_range, loss, label='Training Loss')\n",
        "plt.plot(epochs_range, val_loss, label='Validation Loss')\n",
        "plt.legend(loc='upper right')\n",
        "plt.title('Training and Validation Loss')\n",
        "plt.show()"
      ],
      "execution_count": null,
      "outputs": [
        {
          "output_type": "display_data",
          "data": {
            "image/png": "[encoded data removed]",
            "text/plain": [
              "<Figure size 576x576 with 2 Axes>"
            ]
          },
          "metadata": {
            "tags": []
          }
        }
      ]
    },
    {
      "cell_type": "markdown",
      "metadata": {
        "id": "D_QCu4r6qJcA"
      },
      "source": [
        "#Model of INCEPTION V3"
      ]
    },
    {
      "cell_type": "code",
      "metadata": {
        "id": "Bzuq2RfyX81b"
      },
      "source": [
        "# Inception v3 model\n",
        "from keras.applications.inception_v3 import InceptionV3\n",
        "# create the base pre-trained model\n",
        "base_model = InceptionV3(weights=None, include_top=False,input_shape=(150, 150,3) )"
      ],
      "execution_count": null,
      "outputs": []
    },
    {
      "cell_type": "code",
      "metadata": {
        "colab": {
          "base_uri": "https://localhost:8080/"
        },
        "id": "ESLUeubhqQEE",
        "outputId": "28b518a2-0f33-4f74-ee8d-46b2a65f4cbd"
      },
      "source": [
        "train_datagen = ImageDataGenerator(rescale=1/ 255,\n",
        "    shear_range=0.2,\n",
        "    zoom_range=0.2,\n",
        "    horizontal_flip=True)\n",
        "val_datagen = ImageDataGenerator(rescale = 1/255)\n",
        "                                \n",
        "\n",
        "train_generator = train_datagen.flow_from_directory(\n",
        "    '/content/gdrive/My Drive/train_dataset/',\n",
        "    target_size = [150,150],\n",
        "    class_mode = 'binary'\n",
        ")\n",
        "\n",
        "validation_generator = val_datagen.flow_from_directory(\n",
        "    '/content/gdrive/My Drive/val_dataset/',\n",
        "    target_size = [150,150],\n",
        "    class_mode = 'binary')\n",
        "eval_datagen = ImageDataGenerator(rescale = 1/255)\n",
        "\n",
        "test_generator = eval_datagen.flow_from_directory(\n",
        "    '/content/gdrive/My Drive/test',\n",
        "    target_size =[150,150],\n",
        "    class_mode = 'binary')"
      ],
      "execution_count": null,
      "outputs": [
        {
          "output_type": "stream",
          "text": [
            "Found 4172 images belonging to 2 classes.\n",
            "Found 1044 images belonging to 2 classes.\n",
            "Found 859 images belonging to 2 classes.\n"
          ],
          "name": "stdout"
        }
      ]
    },
    {
      "cell_type": "code",
      "metadata": {
        "colab": {
          "base_uri": "https://localhost:8080/"
        },
        "id": "4e0WFk-0b_3B",
        "outputId": "d949ac54-0203-468d-d901-a12222e5af1e"
      },
      "source": [
        "# Model for inception v2\n",
        "model_v2=Sequential([base_model,\n",
        "                tf.keras.layers.Dropout(0.5),                    \n",
        "                tf.keras.layers.GlobalAveragePooling2D(),\n",
        "                tf.keras.layers.Dense(128, activation='relu'),\n",
        "                tf.keras.layers.BatchNormalization(),\n",
        "                tf.keras.layers.Dense(1, activation='sigmoid')])\n",
        "model_v2.compile(loss='binary_crossentropy',optimizer='Adam',metrics=['accuracy',tf.keras.metrics.Precision(name='precision'),\n",
        "        tf.keras.metrics.Recall(name='recall')])\n",
        "model_v2.summary()\n"
      ],
      "execution_count": null,
      "outputs": [
        {
          "output_type": "stream",
          "text": [
            "Model: \"sequential_2\"\n",
            "_________________________________________________________________\n",
            "Layer (type)                 Output Shape              Param #   \n",
            "=================================================================\n",
            "inception_v3 (Functional)    (None, 3, 3, 2048)        21802784  \n",
            "_________________________________________________________________\n",
            "dropout_4 (Dropout)          (None, 3, 3, 2048)        0         \n",
            "_________________________________________________________________\n",
            "global_average_pooling2d (Gl (None, 2048)              0         \n",
            "_________________________________________________________________\n",
            "dense_6 (Dense)              (None, 128)               262272    \n",
            "_________________________________________________________________\n",
            "batch_normalization_297 (Bat (None, 128)               512       \n",
            "_________________________________________________________________\n",
            "dense_7 (Dense)              (None, 1)                 129       \n",
            "=================================================================\n",
            "Total params: 22,065,697\n",
            "Trainable params: 22,031,009\n",
            "Non-trainable params: 34,688\n",
            "_________________________________________________________________\n"
          ],
          "name": "stdout"
        }
      ]
    },
    {
      "cell_type": "code",
      "metadata": {
        "colab": {
          "base_uri": "https://localhost:8080/"
        },
        "id": "6YB34hEIdZs1",
        "outputId": "c43ab79a-d0b7-4249-cd50-951de69a453b"
      },
      "source": [
        "from keras.callbacks import ReduceLROnPlateau , ModelCheckpoint , LearningRateScheduler\n",
        "lr_reduce = ReduceLROnPlateau(monitor='val_accuracy', factor=0.1, epsilon=0.0001, patience=1, verbose=1)\n",
        "checkpoint= tf.keras.callbacks.ModelCheckpoint(\"model_v2.h5\",\n",
        "                                                    save_best_only=True)"
      ],
      "execution_count": null,
      "outputs": [
        {
          "output_type": "stream",
          "text": [
            "WARNING:tensorflow:`epsilon` argument is deprecated and will be removed, use `min_delta` instead.\n"
          ],
          "name": "stdout"
        }
      ]
    },
    {
      "cell_type": "code",
      "metadata": {
        "colab": {
          "base_uri": "https://localhost:8080/"
        },
        "id": "LSUc89TZcoZz",
        "outputId": "637ec482-e776-4820-efb5-d4ada0155b5b"
      },
      "source": [
        "history = model_v2.fit(train_generator, validation_data = validation_generator ,callbacks=[lr_reduce,checkpoint] ,\n",
        "          epochs=15)"
      ],
      "execution_count": null,
      "outputs": [
        {
          "output_type": "stream",
          "text": [
            "Epoch 1/15\n",
            "131/131 [==============================] - 857s 6s/step - loss: 0.4642 - accuracy: 0.8095 - precision: 0.9081 - recall: 0.8181 - val_loss: 0.8047 - val_accuracy: 0.7672 - val_precision: 0.7672 - val_recall: 1.0000\n",
            "Epoch 2/15\n",
            "131/131 [==============================] - 80s 614ms/step - loss: 0.2412 - accuracy: 0.9137 - precision: 0.9421 - recall: 0.9410 - val_loss: 1.2243 - val_accuracy: 0.7672 - val_precision: 0.7672 - val_recall: 1.0000\n",
            "\n",
            "Epoch 00002: ReduceLROnPlateau reducing learning rate to 0.00010000000474974513.\n",
            "Epoch 3/15\n",
            "131/131 [==============================] - 79s 605ms/step - loss: 0.2093 - accuracy: 0.9239 - precision: 0.9620 - recall: 0.9356 - val_loss: 1.0507 - val_accuracy: 0.7672 - val_precision: 0.7672 - val_recall: 1.0000\n",
            "\n",
            "Epoch 00003: ReduceLROnPlateau reducing learning rate to 1.0000000474974514e-05.\n",
            "Epoch 4/15\n",
            "131/131 [==============================] - 79s 602ms/step - loss: 0.1738 - accuracy: 0.9348 - precision: 0.9531 - recall: 0.9576 - val_loss: 0.2242 - val_accuracy: 0.8956 - val_precision: 0.8827 - val_recall: 0.9963\n",
            "Epoch 5/15\n",
            "131/131 [==============================] - 80s 614ms/step - loss: 0.1538 - accuracy: 0.9368 - precision: 0.9581 - recall: 0.9560 - val_loss: 0.1089 - val_accuracy: 0.9626 - val_precision: 0.9835 - val_recall: 0.9675\n",
            "Epoch 6/15\n",
            "131/131 [==============================] - 81s 616ms/step - loss: 0.1478 - accuracy: 0.9456 - precision: 0.9671 - recall: 0.9597 - val_loss: 0.1449 - val_accuracy: 0.9502 - val_precision: 0.9807 - val_recall: 0.9538\n",
            "\n",
            "Epoch 00006: ReduceLROnPlateau reducing learning rate to 1.0000000656873453e-06.\n",
            "Epoch 7/15\n",
            "131/131 [==============================] - 80s 608ms/step - loss: 0.1660 - accuracy: 0.9403 - precision: 0.9571 - recall: 0.9622 - val_loss: 0.1773 - val_accuracy: 0.9425 - val_precision: 0.9744 - val_recall: 0.9501\n",
            "\n",
            "Epoch 00007: ReduceLROnPlateau reducing learning rate to 1.0000001111620805e-07.\n",
            "Epoch 8/15\n",
            "131/131 [==============================] - 79s 603ms/step - loss: 0.1484 - accuracy: 0.9420 - precision: 0.9619 - recall: 0.9594 - val_loss: 0.1752 - val_accuracy: 0.9377 - val_precision: 0.9742 - val_recall: 0.9438\n",
            "\n",
            "Epoch 00008: ReduceLROnPlateau reducing learning rate to 1.000000082740371e-08.\n",
            "Epoch 9/15\n",
            "131/131 [==============================] - 79s 603ms/step - loss: 0.1462 - accuracy: 0.9490 - precision: 0.9711 - recall: 0.9599 - val_loss: 0.2044 - val_accuracy: 0.9358 - val_precision: 0.9681 - val_recall: 0.9476\n",
            "\n",
            "Epoch 00009: ReduceLROnPlateau reducing learning rate to 1.000000082740371e-09.\n",
            "Epoch 10/15\n",
            "131/131 [==============================] - 80s 612ms/step - loss: 0.1715 - accuracy: 0.9388 - precision: 0.9635 - recall: 0.9541 - val_loss: 0.2029 - val_accuracy: 0.9358 - val_precision: 0.9681 - val_recall: 0.9476\n",
            "\n",
            "Epoch 00010: ReduceLROnPlateau reducing learning rate to 1.000000082740371e-10.\n",
            "Epoch 11/15\n",
            "131/131 [==============================] - 79s 607ms/step - loss: 0.1542 - accuracy: 0.9454 - precision: 0.9538 - recall: 0.9716 - val_loss: 0.2156 - val_accuracy: 0.9339 - val_precision: 0.9692 - val_recall: 0.9438\n",
            "\n",
            "Epoch 00011: ReduceLROnPlateau reducing learning rate to 1.000000082740371e-11.\n",
            "Epoch 12/15\n",
            "131/131 [==============================] - 79s 606ms/step - loss: 0.1641 - accuracy: 0.9384 - precision: 0.9583 - recall: 0.9583 - val_loss: 0.2141 - val_accuracy: 0.9339 - val_precision: 0.9692 - val_recall: 0.9438\n",
            "\n",
            "Epoch 00012: ReduceLROnPlateau reducing learning rate to 1.000000082740371e-12.\n",
            "Epoch 13/15\n",
            "131/131 [==============================] - 79s 602ms/step - loss: 0.1612 - accuracy: 0.9392 - precision: 0.9636 - recall: 0.9537 - val_loss: 0.2036 - val_accuracy: 0.9358 - val_precision: 0.9705 - val_recall: 0.9451\n",
            "\n",
            "Epoch 00013: ReduceLROnPlateau reducing learning rate to 1.0000001044244145e-13.\n",
            "Epoch 14/15\n",
            "131/131 [==============================] - 79s 606ms/step - loss: 0.1563 - accuracy: 0.9510 - precision: 0.9687 - recall: 0.9650 - val_loss: 0.2106 - val_accuracy: 0.9330 - val_precision: 0.9680 - val_recall: 0.9438\n",
            "\n",
            "Epoch 00014: ReduceLROnPlateau reducing learning rate to 1.0000001179769417e-14.\n",
            "Epoch 15/15\n",
            "131/131 [==============================] - 79s 604ms/step - loss: 0.1732 - accuracy: 0.9334 - precision: 0.9526 - recall: 0.9572 - val_loss: 0.2064 - val_accuracy: 0.9349 - val_precision: 0.9705 - val_recall: 0.9438\n",
            "\n",
            "Epoch 00015: ReduceLROnPlateau reducing learning rate to 1.0000001518582595e-15.\n"
          ],
          "name": "stdout"
        }
      ]
    },
    {
      "cell_type": "code",
      "metadata": {
        "colab": {
          "base_uri": "https://localhost:8080/"
        },
        "id": "Tv89FChzdOGP",
        "outputId": "ac2de86b-f0f2-49be-ad67-3757019c946d"
      },
      "source": [
        "eval_result1=model_v2.evaluate_generator(test_generator)\n",
        "print('loss rate on evaluation data :', eval_result1[0])\n",
        "print('accuracy rate on evaluation data :', eval_result1[1])\n",
        "print('precision on evaluation data :', eval_result1[2])\n",
        "print('recall on evaluation data :', eval_result1[1])"
      ],
      "execution_count": null,
      "outputs": [
        {
          "output_type": "stream",
          "text": [
            "/usr/local/lib/python3.7/dist-packages/tensorflow/python/keras/engine/training.py:1877: UserWarning: `Model.evaluate_generator` is deprecated and will be removed in a future version. Please use `Model.evaluate`, which supports generators.\n",
            "  warnings.warn('`Model.evaluate_generator` is deprecated and '\n"
          ],
          "name": "stderr"
        },
        {
          "output_type": "stream",
          "text": [
            "loss rate on evaluation data : 0.2706884443759918\n",
            "accuracy rate on evaluation data : 0.9138533473014832\n",
            "precision on evaluation data : 0.9105812311172485\n",
            "recall on evaluation data : 0.9138533473014832\n"
          ],
          "name": "stdout"
        }
      ]
    },
    {
      "cell_type": "code",
      "metadata": {
        "colab": {
          "base_uri": "https://localhost:8080/",
          "height": 499
        },
        "id": "mm_-E1NTjttr",
        "outputId": "148cec01-9dc8-4f7c-9eeb-696976cb7d14"
      },
      "source": [
        "acc = history.history['accuracy']\n",
        "val_acc = history.history['val_accuracy']\n",
        "\n",
        "loss = history.history['loss']\n",
        "val_loss = history.history['val_loss']\n",
        "\n",
        "epochs_range = range(15)\n",
        "\n",
        "plt.figure(figsize=(8, 8))\n",
        "plt.subplot(1, 2, 1)\n",
        "plt.plot(epochs_range, acc, label='Training Accuracy')\n",
        "plt.plot(epochs_range, val_acc, label='Validation Accuracy')\n",
        "plt.legend(loc='lower right')\n",
        "plt.title('Training and Validation Accuracy')\n",
        "\n",
        "plt.subplot(1, 2, 2)\n",
        "plt.plot(epochs_range, loss, label='Training Loss')\n",
        "plt.plot(epochs_range, val_loss, label='Validation Loss')\n",
        "plt.legend(loc='upper right')\n",
        "plt.title('Training and Validation Loss')\n",
        "plt.show()"
      ],
      "execution_count": null,
      "outputs": [
        {
          "output_type": "display_data",
          "data": {
            "image/png": "[encoded data removed]",
            "text/plain": [
              "<Figure size 576x576 with 2 Axes>"
            ]
          },
          "metadata": {
            "tags": []
          }
        }
      ]
    },
    {
      "cell_type": "code",
      "metadata": {
        "colab": {
          "base_uri": "https://localhost:8080/"
        },
        "id": "VmSpcKzkkuGw",
        "outputId": "d2658d73-596c-4b1f-b687-04fc9b29e1ca"
      },
      "source": [
        "class_v2=model_v2.predict_classes(test_generator)"
      ],
      "execution_count": null,
      "outputs": [
        {
          "output_type": "stream",
          "text": [
            "/usr/local/lib/python3.7/dist-packages/tensorflow/python/keras/engine/sequential.py:450: UserWarning: `model.predict_classes()` is deprecated and will be removed after 2021-01-01. Please use instead:* `np.argmax(model.predict(x), axis=-1)`,   if your model does multi-class classification   (e.g. if it uses a `softmax` last-layer activation).* `(model.predict(x) > 0.5).astype(\"int32\")`,   if your model does binary classification   (e.g. if it uses a `sigmoid` last-layer activation).\n",
            "  warnings.warn('`model.predict_classes()` is deprecated and '\n"
          ],
          "name": "stderr"
        }
      ]
    },
    {
      "cell_type": "code",
      "metadata": {
        "colab": {
          "base_uri": "https://localhost:8080/"
        },
        "id": "h8aU0GrdvpR2",
        "outputId": "7ecf2951-2878-40e1-b02c-d44907486172"
      },
      "source": [
        "print(confusion_matrix(test_generator.classes,class_v2))"
      ],
      "execution_count": null,
      "outputs": [
        {
          "output_type": "stream",
          "text": [
            "[[ 51 183]\n",
            " [137 488]]\n"
          ],
          "name": "stdout"
        }
      ]
    },
    {
      "cell_type": "markdown",
      "source": [
        "#Ensemble by majority "
      ],
      "metadata": {
        "id": "borVU21ICs66"
      }
    },
    {
      "cell_type": "code",
      "metadata": {
        "id": "xsqcz2j50LyL"
      },
      "source": [
        "|# Ensemble of VGG16, inceptionresentv2 and  inceptionv3\n",
        "class_Ensemble=[]\n",
        "for i in range(len(class_v2)):\n",
        "  l=[]\n",
        "  l.append(class_v2[i][0])\n",
        "  l.append(class_inception[i][0])\n",
        "  l.append(class_vgg[i][0])\n",
        "  class_Ensemble.append(l)"
      ],
      "execution_count": null,
      "outputs": []
    },
    {
      "cell_type": "code",
      "metadata": {
        "id": "wyDHKblJJ_dM"
      },
      "source": [
        "final=[]\n",
        "for i in range (len(class_Ensemble)):\n",
        "  output=[]\n",
        "  class_Ensemble[i].sort()\n",
        "  output.append(class_Ensemble[i][1])\n",
        "  final.append(output)\n"
      ],
      "execution_count": null,
      "outputs": []
    },
    {
      "cell_type": "code",
      "metadata": {
        "colab": {
          "base_uri": "https://localhost:8080/",
          "height": 207
        },
        "id": "wHJgkJigJ_as",
        "outputId": "4a67db78-6d00-483a-a24a-88a78dd9f1c5"
      },
      "source": [
        "print(confusion_matrix(test_generator.classes,final))\n",
        "pd.DataFrame(classification_report(test_generator.classes,final, output_dict=True))"
      ],
      "execution_count": null,
      "outputs": [
        {
          "output_type": "stream",
          "text": [
            "[[ 16 218]\n",
            " [ 48 577]]\n"
          ],
          "name": "stdout"
        },
        {
          "output_type": "execute_result",
          "data": {
            "text/html": [
              "<div>\n",
              "<style scoped>\n",
              "    .dataframe tbody tr th:only-of-type {\n",
              "        vertical-align: middle;\n",
              "    }\n",
              "\n",
              "    .dataframe tbody tr th {\n",
              "        vertical-align: top;\n",
              "    }\n",
              "\n",
              "    .dataframe thead th {\n",
              "        text-align: right;\n",
              "    }\n",
              "</style>\n",
              "<table border=\"1\" class=\"dataframe\">\n",
              "  <thead>\n",
              "    <tr style=\"text-align: right;\">\n",
              "      <th></th>\n",
              "      <th>0</th>\n",
              "      <th>1</th>\n",
              "      <th>accuracy</th>\n",
              "      <th>macro avg</th>\n",
              "      <th>weighted avg</th>\n",
              "    </tr>\n",
              "  </thead>\n",
              "  <tbody>\n",
              "    <tr>\n",
              "      <th>precision</th>\n",
              "      <td>0.250000</td>\n",
              "      <td>0.725786</td>\n",
              "      <td>0.690338</td>\n",
              "      <td>0.487893</td>\n",
              "      <td>0.596177</td>\n",
              "    </tr>\n",
              "    <tr>\n",
              "      <th>recall</th>\n",
              "      <td>0.068376</td>\n",
              "      <td>0.923200</td>\n",
              "      <td>0.690338</td>\n",
              "      <td>0.495788</td>\n",
              "      <td>0.690338</td>\n",
              "    </tr>\n",
              "    <tr>\n",
              "      <th>f1-score</th>\n",
              "      <td>0.107383</td>\n",
              "      <td>0.812676</td>\n",
              "      <td>0.690338</td>\n",
              "      <td>0.460029</td>\n",
              "      <td>0.620547</td>\n",
              "    </tr>\n",
              "    <tr>\n",
              "      <th>support</th>\n",
              "      <td>234.000000</td>\n",
              "      <td>625.000000</td>\n",
              "      <td>0.690338</td>\n",
              "      <td>859.000000</td>\n",
              "      <td>859.000000</td>\n",
              "    </tr>\n",
              "  </tbody>\n",
              "</table>\n",
              "</div>"
            ],
            "text/plain": [
              "                    0           1  accuracy   macro avg  weighted avg\n",
              "precision    0.250000    0.725786  0.690338    0.487893      0.596177\n",
              "recall       0.068376    0.923200  0.690338    0.495788      0.690338\n",
              "f1-score     0.107383    0.812676  0.690338    0.460029      0.620547\n",
              "support    234.000000  625.000000  0.690338  859.000000    859.000000"
            ]
          },
          "metadata": {
            "tags": []
          },
          "execution_count": 59
        }
      ]
    },
    {
      "cell_type": "code",
      "metadata": {
        "id": "ylTRtIoVaI2Y"
      },
      "source": [
        ""
      ],
      "execution_count": null,
      "outputs": []
    }
  ]
}
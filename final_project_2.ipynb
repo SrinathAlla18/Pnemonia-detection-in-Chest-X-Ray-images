{
 "cells": [
  {
   "cell_type": "markdown",
   "metadata": {
    "id": "CwGVsspyY7Tg"
   },
   "source": [
    "# The link of the Dataset is the project final document(Dataset Section)"
   ]
  },
  {
   "cell_type": "code",
   "execution_count": null,
   "metadata": {
    "id": "b_2jwdp13kjn"
   },
   "outputs": [],
   "source": [
    "import pandas as pd\n",
    "import numpy as np\n",
    "import tensorflow as tf\n",
    "import os\n",
    "import seaborn as sns\n",
    "import matplotlib.pyplot as plt\n",
    "from keras.models import Sequential\n",
    "from keras.layers import Dense, Flatten\n",
    "from keras.preprocessing.image import ImageDataGenerator\n",
    "from tensorflow.keras.optimizers import RMSprop,Adam,SGD\n",
    "from sklearn.model_selection import train_test_split\n",
    "from keras.applications.vgg16 import VGG16\n",
    "from keras.applications.resnet50 import ResNet50\n",
    "from keras.applications import InceptionResNetV2\n",
    "from keras.applications.vgg16 import preprocess_input\n",
    "from sklearn.metrics import confusion_matrix, classification_report,accuracy_score,precision_score,recall_score"
   ]
  },
  {
   "cell_type": "code",
   "execution_count": null,
   "metadata": {
    "colab": {
     "base_uri": "https://localhost:8080/"
    },
    "id": "Qwl51lhE_N3x",
    "outputId": "eef0653f-3580-4d64-ce6a-4c8e5e976887"
   },
   "outputs": [
    {
     "name": "stdout",
     "output_type": "stream",
     "text": [
      "Mounted at /content/gdrive\n"
     ]
    }
   ],
   "source": [
    "from google.colab import drive\n",
    "drive.mount('/content/gdrive')"
   ]
  },
  {
   "cell_type": "code",
   "execution_count": null,
   "metadata": {
    "colab": {
     "base_uri": "https://localhost:8080/"
    },
    "id": "kBsw_OFE_Qkb",
    "outputId": "1c88f0e0-1b6b-4139-de79-629a2302b3f9"
   },
   "outputs": [
    {
     "name": "stdout",
     "output_type": "stream",
     "text": [
      "/content/gdrive/My Drive/train\n"
     ]
    }
   ],
   "source": [
    "cd '/content/gdrive/My Drive/train/'"
   ]
  },
  {
   "cell_type": "code",
   "execution_count": null,
   "metadata": {
    "colab": {
     "base_uri": "https://localhost:8080/"
    },
    "id": "okaViRQg_aDe",
    "outputId": "43e5003d-c7e0-47a3-f30f-9fb204ebd582"
   },
   "outputs": [
    {
     "name": "stdout",
     "output_type": "stream",
     "text": [
      "4694\n",
      "522\n"
     ]
    }
   ],
   "source": [
    "training_images = tf.io.gfile.glob('/content/gdrive/My Drive/train/*/*')\n",
    "total_files = training_images\n",
    "train_images, val_images = train_test_split(total_files, test_size = 0.1,random_state=42)\n",
    "print(len(train_images))\n",
    "print(len(val_images))"
   ]
  },
  {
   "cell_type": "code",
   "execution_count": null,
   "metadata": {
    "colab": {
     "base_uri": "https://localhost:8080/",
     "height": 370
    },
    "id": "_FHNiTlLGG0v",
    "outputId": "2f991e78-b87b-4575-f7ea-5154114283e1"
   },
   "outputs": [
    {
     "name": "stdout",
     "output_type": "stream",
     "text": [
      "Normal images count in training set: 1191\n",
      "Pneumonia images count in training set: 3503\n"
     ]
    },
    {
     "name": "stderr",
     "output_type": "stream",
     "text": [
      "/usr/local/lib/python3.7/dist-packages/seaborn/_decorators.py:43: FutureWarning: Pass the following variable as a keyword arg: x. From version 0.12, the only valid positional argument will be `data`, and passing other arguments without an explicit keyword will result in an error or misinterpretation.\n",
      "  FutureWarning\n"
     ]
    },
    {
     "data": {
      "text/plain": [
       "<matplotlib.axes._subplots.AxesSubplot at 0x7f885b5979d0>"
      ]
     },
     "execution_count": 8,
     "metadata": {
      "tags": []
     },
     "output_type": "execute_result"
    },
    {
     "data": {
      "image/png": "[encoded data removed]",
      "text/plain": [
       "<Figure size 432x288 with 1 Axes>"
      ]
     },
     "metadata": {
      "tags": []
     },
     "output_type": "display_data"
    }
   ],
   "source": [
    "count_normal = len([x for x in train_images if \"NORMAL\" in x])\n",
    "print(f'Normal images count in training set: {count_normal}')\n",
    "\n",
    "count_pneumonia = len([x for x in train_images if \"PNEUMONIA\" in x])\n",
    "print(f'Pneumonia images count in training set: {count_pneumonia}')\n",
    "\n",
    "count_array = []\n",
    "count_array += ['positive']*count_pneumonia\n",
    "count_array += ['negative']*count_normal\n",
    "\n",
    "sns.set_style('ticks')\n",
    "sns.countplot(count_array)"
   ]
  },
  {
   "cell_type": "code",
   "execution_count": null,
   "metadata": {
    "id": "48v53uemGf8X"
   },
   "outputs": [],
   "source": [
    "tf.io.gfile.makedirs('/content/gdrive/My Drive/val_dataset/negative/')\n",
    "tf.io.gfile.makedirs('/content/gdrive/My Drive/val_dataset/positive/')\n",
    "tf.io.gfile.makedirs('/content/gdrive/My Drive/train_dataset/negative/')\n",
    "tf.io.gfile.makedirs('/content/gdrive/My Drive/train_dataset/positive/')\n"
   ]
  },
  {
   "cell_type": "code",
   "execution_count": null,
   "metadata": {
    "colab": {
     "base_uri": "https://localhost:8080/"
    },
    "id": "FyBlDOaRHS7Z",
    "outputId": "e5945004-f46e-48fb-cbd0-c91307b981ae"
   },
   "outputs": [
    {
     "name": "stdout",
     "output_type": "stream",
     "text": [
      "Found 4172 images belonging to 2 classes.\n",
      "Found 1044 images belonging to 2 classes.\n"
     ]
    }
   ],
   "source": [
    "train_datagen = ImageDataGenerator(rescale = 1/255,\n",
    "                                 rotation_range = 30,\n",
    "                                 zoom_range = 0.2,\n",
    "                                 width_shift_range = 0.1,\n",
    "                                 height_shift_range = 0.1)\n",
    "val_datagen = ImageDataGenerator(rescale = 1/255)\n",
    "                                \n",
    "\n",
    "train_generator = train_datagen.flow_from_directory(\n",
    "    '/content/gdrive/My Drive/train_dataset/',\n",
    "    target_size = [300,300],\n",
    "    class_mode = 'binary'\n",
    ")\n",
    "\n",
    "validation_generator = val_datagen.flow_from_directory(\n",
    "    '/content/gdrive/My Drive/val_dataset/',\n",
    "    target_size = [300,300],\n",
    "    class_mode = 'binary')"
   ]
  },
  {
   "cell_type": "code",
   "execution_count": null,
   "metadata": {
    "colab": {
     "base_uri": "https://localhost:8080/"
    },
    "id": "AZ-u2m_WQ8_4",
    "outputId": "80a022bb-8482-41fb-8295-85ca703732b5"
   },
   "outputs": [
    {
     "name": "stdout",
     "output_type": "stream",
     "text": [
      "Found 859 images belonging to 2 classes.\n"
     ]
    }
   ],
   "source": [
    "eval_datagen = ImageDataGenerator(rescale = 1/255)\n",
    "\n",
    "test_generator = eval_datagen.flow_from_directory(\n",
    "    '/content/gdrive/My Drive/test',\n",
    "    target_size =[300,300],\n",
    "    class_mode = 'binary')"
   ]
  },
  {
   "cell_type": "code",
   "execution_count": null,
   "metadata": {
    "colab": {
     "base_uri": "https://localhost:8080/"
    },
    "id": "Kh4xdGleRF0H",
    "outputId": "79d7b6d6-f538-4c09-9519-af86da27abb4"
   },
   "outputs": [
    {
     "name": "stdout",
     "output_type": "stream",
     "text": [
      "Weight for class 0: 1.97\n",
      "Weight for class 1: 0.67\n"
     ]
    }
   ],
   "source": [
    "weight_for_0 = (1 / count_normal)*(len(train_images))/2.0 \n",
    "weight_for_1 = (1 / count_pneumonia)*(len(train_images))/2.0\n",
    "\n",
    "class_weight = {0: weight_for_0, 1: weight_for_1}\n",
    "\n",
    "print('Weight for class 0: {:.2f}'.format(weight_for_0))\n",
    "print('Weight for class 1: {:.2f}'.format(weight_for_1))"
   ]
  },
  {
   "cell_type": "code",
   "execution_count": null,
   "metadata": {
    "id": "K1i8cLfZRSf5"
   },
   "outputs": [],
   "source": [
    "vgg=VGG16(input_shape=[300,300]+[3],weights='imagenet',include_top=False)\n",
    "for layer in vgg.layers:\n",
    "    layer.trainable=False"
   ]
  },
  {
   "cell_type": "code",
   "execution_count": null,
   "metadata": {
    "colab": {
     "base_uri": "https://localhost:8080/"
    },
    "id": "wXwJ-7FRbXZK",
    "outputId": "bf6c9211-10ed-4cdd-da13-03bb52d28c39"
   },
   "outputs": [
    {
     "name": "stdout",
     "output_type": "stream",
     "text": [
      "Downloading data from https://storage.googleapis.com/tensorflow/keras-applications/inception_resnet_v2/inception_resnet_v2_weights_tf_dim_ordering_tf_kernels_notop.h5\n",
      "219062272/219055592 [==============================] - 3s 0us/step\n"
     ]
    }
   ],
   "source": [
    "# INCEPTIONResNetV2\n",
    "inception=InceptionResNetV2(input_shape=[150,150]+[3],weights='imagenet',include_top=False)\n",
    "for layer in inception.layers:\n",
    "    layer.trainable=False"
   ]
  },
  {
   "cell_type": "code",
   "execution_count": null,
   "metadata": {
    "colab": {
     "base_uri": "https://localhost:8080/"
    },
    "id": "q71MxcdORVxx",
    "outputId": "6e5bb910-7f9e-4434-e3c2-97cfd538811c"
   },
   "outputs": [
    {
     "name": "stdout",
     "output_type": "stream",
     "text": [
      "Model: \"sequential_3\"\n",
      "_________________________________________________________________\n",
      "Layer (type)                 Output Shape              Param #   \n",
      "=================================================================\n",
      "vgg16 (Functional)           (None, 9, 9, 512)         14714688  \n",
      "_________________________________________________________________\n",
      "flatten_2 (Flatten)          (None, 41472)             0         \n",
      "_________________________________________________________________\n",
      "dense_8 (Dense)              (None, 512)               21234176  \n",
      "_________________________________________________________________\n",
      "dropout_5 (Dropout)          (None, 512)               0         \n",
      "_________________________________________________________________\n",
      "dense_9 (Dense)              (None, 512)               262656    \n",
      "_________________________________________________________________\n",
      "dropout_6 (Dropout)          (None, 512)               0         \n",
      "_________________________________________________________________\n",
      "dense_10 (Dense)             (None, 1)                 513       \n",
      "=================================================================\n",
      "Total params: 36,212,033\n",
      "Trainable params: 21,497,345\n",
      "Non-trainable params: 14,714,688\n",
      "_________________________________________________________________\n"
     ]
    }
   ],
   "source": [
    "model=Sequential([vgg,\n",
    "                tf.keras.layers.Flatten(),\n",
    "                tf.keras.layers.Dense(512, activation=tf.nn.relu),\n",
    "                tf.keras.layers.Dropout(0.2),\n",
    "                tf.keras.layers.Dense(512, activation=tf.nn.relu),\n",
    "                tf.keras.layers.Dropout(0.2),\n",
    "                tf.keras.layers.Dense(1,activation=tf.nn.sigmoid)])\n",
    "model.compile(loss='binary_crossentropy',optimizer=RMSprop(lr=0.001),metrics=['accuracy',tf.keras.metrics.Precision(name='precision'),\n",
    "        tf.keras.metrics.Recall(name='recall')])\n",
    "model.summary()"
   ]
  },
  {
   "cell_type": "code",
   "execution_count": null,
   "metadata": {
    "colab": {
     "base_uri": "https://localhost:8080/"
    },
    "id": "EN8cl9AlRYsV",
    "outputId": "5329865e-432e-42e7-a2a3-b643c2fa3587"
   },
   "outputs": [
    {
     "name": "stdout",
     "output_type": "stream",
     "text": [
      "Epoch 1/25\n",
      "10/10 [==============================] - 24s 2s/step - loss: 15.6185 - accuracy: 0.5836 - precision: 0.7589 - recall: 0.6335 - val_loss: 0.2795 - val_accuracy: 0.8554 - val_precision: 0.8457 - val_recall: 0.9925\n",
      "Epoch 2/25\n",
      "10/10 [==============================] - 23s 2s/step - loss: 2.0299 - accuracy: 0.5760 - precision: 0.7509 - recall: 0.5841 - val_loss: 0.4393 - val_accuracy: 0.7787 - val_precision: 0.7762 - val_recall: 1.0000\n",
      "Epoch 3/25\n",
      "10/10 [==============================] - 22s 2s/step - loss: 1.0339 - accuracy: 0.6604 - precision: 0.8278 - recall: 0.7018 - val_loss: 0.2626 - val_accuracy: 0.8898 - val_precision: 0.8820 - val_recall: 0.9888\n",
      "Epoch 4/25\n",
      "10/10 [==============================] - 23s 2s/step - loss: 0.4925 - accuracy: 0.7659 - precision: 0.8978 - recall: 0.7743 - val_loss: 1.3311 - val_accuracy: 0.5307 - val_precision: 0.9968 - val_recall: 0.3895\n",
      "Epoch 5/25\n",
      "10/10 [==============================] - 23s 2s/step - loss: 0.6179 - accuracy: 0.7411 - precision: 0.9014 - recall: 0.7198 - val_loss: 0.2151 - val_accuracy: 0.9061 - val_precision: 0.8999 - val_recall: 0.9875\n",
      "Epoch 6/25\n",
      "10/10 [==============================] - 23s 2s/step - loss: 1.0574 - accuracy: 0.6542 - precision: 0.8393 - recall: 0.6559 - val_loss: 0.1863 - val_accuracy: 0.9291 - val_precision: 0.9322 - val_recall: 0.9788\n",
      "Epoch 7/25\n",
      "10/10 [==============================] - 23s 3s/step - loss: 0.5097 - accuracy: 0.8087 - precision: 0.9212 - recall: 0.8137 - val_loss: 0.3424 - val_accuracy: 0.8534 - val_precision: 0.8418 - val_recall: 0.9963\n",
      "Epoch 8/25\n",
      "10/10 [==============================] - 22s 2s/step - loss: 0.6373 - accuracy: 0.7873 - precision: 0.8953 - recall: 0.8280 - val_loss: 0.1814 - val_accuracy: 0.9349 - val_precision: 0.9766 - val_recall: 0.9376\n",
      "Epoch 9/25\n",
      "10/10 [==============================] - 23s 2s/step - loss: 0.4463 - accuracy: 0.8078 - precision: 0.9244 - recall: 0.8150 - val_loss: 0.4441 - val_accuracy: 0.7950 - val_precision: 0.9966 - val_recall: 0.7353\n",
      "Epoch 10/25\n",
      "10/10 [==============================] - 23s 2s/step - loss: 0.2794 - accuracy: 0.9023 - precision: 0.9734 - recall: 0.8901 - val_loss: 0.2473 - val_accuracy: 0.8898 - val_precision: 0.9886 - val_recall: 0.8664\n",
      "Epoch 11/25\n",
      "10/10 [==============================] - 23s 2s/step - loss: 0.2448 - accuracy: 0.9065 - precision: 0.9722 - recall: 0.9028 - val_loss: 0.1983 - val_accuracy: 0.9157 - val_precision: 0.9850 - val_recall: 0.9039\n",
      "Epoch 12/25\n",
      "10/10 [==============================] - 23s 2s/step - loss: 0.3677 - accuracy: 0.8914 - precision: 0.9621 - recall: 0.8958 - val_loss: 0.9751 - val_accuracy: 0.6341 - val_precision: 0.9976 - val_recall: 0.5243\n",
      "Epoch 13/25\n",
      "10/10 [==============================] - 23s 2s/step - loss: 0.3581 - accuracy: 0.8131 - precision: 0.9758 - recall: 0.7645 - val_loss: 0.5447 - val_accuracy: 0.8295 - val_precision: 0.9968 - val_recall: 0.7803\n",
      "Epoch 14/25\n",
      "10/10 [==============================] - 23s 2s/step - loss: 0.4784 - accuracy: 0.8221 - precision: 0.9416 - recall: 0.8028 - val_loss: 0.5496 - val_accuracy: 0.7998 - val_precision: 0.9966 - val_recall: 0.7416\n",
      "Epoch 15/25\n",
      "10/10 [==============================] - 23s 2s/step - loss: 0.2050 - accuracy: 0.9111 - precision: 0.9826 - recall: 0.9005 - val_loss: 0.4054 - val_accuracy: 0.7941 - val_precision: 0.9966 - val_recall: 0.7341\n",
      "Epoch 16/25\n",
      "10/10 [==============================] - 22s 2s/step - loss: 0.2554 - accuracy: 0.8759 - precision: 0.9718 - recall: 0.8616 - val_loss: 0.2641 - val_accuracy: 0.8755 - val_precision: 0.9956 - val_recall: 0.8414\n",
      "Epoch 17/25\n",
      "10/10 [==============================] - 23s 2s/step - loss: 0.1703 - accuracy: 0.9106 - precision: 0.9783 - recall: 0.8975 - val_loss: 0.1574 - val_accuracy: 0.9282 - val_precision: 0.9814 - val_recall: 0.9238\n",
      "Epoch 18/25\n",
      "10/10 [==============================] - 23s 2s/step - loss: 0.3171 - accuracy: 0.8937 - precision: 0.9556 - recall: 0.8954 - val_loss: 0.8643 - val_accuracy: 0.6657 - val_precision: 0.9978 - val_recall: 0.5655\n",
      "Epoch 19/25\n",
      "10/10 [==============================] - 23s 2s/step - loss: 0.3343 - accuracy: 0.8658 - precision: 0.9792 - recall: 0.8461 - val_loss: 0.1284 - val_accuracy: 0.9579 - val_precision: 0.9737 - val_recall: 0.9713\n",
      "Epoch 20/25\n",
      "10/10 [==============================] - 23s 2s/step - loss: 0.2334 - accuracy: 0.9076 - precision: 0.9739 - recall: 0.9087 - val_loss: 0.1265 - val_accuracy: 0.9588 - val_precision: 0.9726 - val_recall: 0.9738\n",
      "Epoch 21/25\n",
      "10/10 [==============================] - 24s 2s/step - loss: 0.3041 - accuracy: 0.8805 - precision: 0.9520 - recall: 0.8783 - val_loss: 0.2137 - val_accuracy: 0.9071 - val_precision: 0.9903 - val_recall: 0.8876\n",
      "Epoch 22/25\n",
      "10/10 [==============================] - 23s 2s/step - loss: 0.2801 - accuracy: 0.8875 - precision: 0.9617 - recall: 0.8793 - val_loss: 0.2214 - val_accuracy: 0.9262 - val_precision: 0.9892 - val_recall: 0.9139\n",
      "Epoch 23/25\n",
      "10/10 [==============================] - 22s 2s/step - loss: 0.3112 - accuracy: 0.8880 - precision: 0.9668 - recall: 0.8758 - val_loss: 0.6006 - val_accuracy: 0.7280 - val_precision: 0.9981 - val_recall: 0.6467\n",
      "Epoch 24/25\n",
      "10/10 [==============================] - 22s 2s/step - loss: 0.3081 - accuracy: 0.8854 - precision: 0.9699 - recall: 0.8666 - val_loss: 0.2195 - val_accuracy: 0.8985 - val_precision: 0.9915 - val_recall: 0.8752\n",
      "Epoch 25/25\n",
      "10/10 [==============================] - 22s 2s/step - loss: 0.2726 - accuracy: 0.8917 - precision: 0.9732 - recall: 0.8831 - val_loss: 0.2548 - val_accuracy: 0.8822 - val_precision: 0.9956 - val_recall: 0.8502\n"
     ]
    }
   ],
   "source": [
    "checkpoint_cb1 = tf.keras.callbacks.ModelCheckpoint(\"model1_vgg.h5\",save_best_only=True)\n",
    "\n",
    "early_stopping_cb1 = tf.keras.callbacks.EarlyStopping(monitor ='val_loss', patience=20, mode = 'min',restore_best_weights=True)\n",
    "history1 = model.fit(\n",
    "    train_generator,\n",
    "    steps_per_epoch = 10,\n",
    "    epochs = 25,\n",
    "    validation_data = validation_generator,\n",
    "    class_weight = class_weight,\n",
    "    callbacks = [early_stopping_cb1,checkpoint_cb1])"
   ]
  },
  {
   "cell_type": "code",
   "execution_count": null,
   "metadata": {
    "colab": {
     "base_uri": "https://localhost:8080/",
     "height": 499
    },
    "id": "hFrm-4EsfgzN",
    "outputId": "ef09d5ad-f8a3-4308-b856-3c4baad32f58"
   },
   "outputs": [
    {
     "data": {
      "image/png": "[encoded data removed]",
      "text/plain": [
       "<Figure size 576x576 with 2 Axes>"
      ]
     },
     "metadata": {
      "tags": []
     },
     "output_type": "display_data"
    }
   ],
   "source": [
    "acc = history1.history['accuracy']\n",
    "val_acc = history1.history['val_accuracy']\n",
    "\n",
    "loss = history1.history['loss']\n",
    "val_loss = history1.history['val_loss']\n",
    "\n",
    "epochs_range = range(25)\n",
    "\n",
    "plt.figure(figsize=(8, 8))\n",
    "plt.subplot(1, 2, 1)\n",
    "plt.plot(epochs_range, acc, label='Training Accuracy')\n",
    "plt.plot(epochs_range, val_acc, label='Validation Accuracy')\n",
    "plt.legend(loc='lower right')\n",
    "plt.title('Training and Validation Accuracy')\n",
    "\n",
    "plt.subplot(1, 2, 2)\n",
    "plt.plot(epochs_range, loss, label='Training Loss')\n",
    "plt.plot(epochs_range, val_loss, label='Validation Loss')\n",
    "plt.legend(loc='upper right')\n",
    "plt.title('Training and Validation Loss')\n",
    "plt.show()"
   ]
  },
  {
   "cell_type": "code",
   "execution_count": null,
   "metadata": {
    "colab": {
     "base_uri": "https://localhost:8080/"
    },
    "id": "7ZBeBsnzOWOF",
    "outputId": "e9f933de-e000-4c6a-db9e-67c1ba389b83"
   },
   "outputs": [
    {
     "name": "stderr",
     "output_type": "stream",
     "text": [
      "/usr/local/lib/python3.7/dist-packages/tensorflow/python/keras/engine/training.py:1877: UserWarning: `Model.evaluate_generator` is deprecated and will be removed in a future version. Please use `Model.evaluate`, which supports generators.\n",
      "  warnings.warn('`Model.evaluate_generator` is deprecated and '\n"
     ]
    },
    {
     "name": "stdout",
     "output_type": "stream",
     "text": [
      "loss rate on evaluation data : 0.23840667307376862\n",
      "accuracy rate on evaluation data : 0.9045401811599731\n",
      "precision on evaluation data : 0.9593908786773682\n",
      "Recall on evaluation data : 0.9071999788284302\n"
     ]
    }
   ],
   "source": [
    "eval_result1=model.evaluate_generator(test_generator)\n",
    "print('loss rate on evaluation data :', eval_result1[0])\n",
    "print('accuracy rate on evaluation data :', eval_result1[1])\n",
    "print('precision on evaluation data :', eval_result1[2])\n",
    "print('Recall on evaluation data :', eval_result1[3])"
   ]
  },
  {
   "cell_type": "code",
   "execution_count": null,
   "metadata": {
    "colab": {
     "base_uri": "https://localhost:8080/"
    },
    "id": "G9Jjey22W6ct",
    "outputId": "05c4e324-d9fc-41fd-dbae-e7754f22ffa4"
   },
   "outputs": [
    {
     "name": "stderr",
     "output_type": "stream",
     "text": [
      "/usr/local/lib/python3.7/dist-packages/tensorflow/python/keras/engine/sequential.py:450: UserWarning: `model.predict_classes()` is deprecated and will be removed after 2021-01-01. Please use instead:* `np.argmax(model.predict(x), axis=-1)`,   if your model does multi-class classification   (e.g. if it uses a `softmax` last-layer activation).* `(model.predict(x) > 0.5).astype(\"int32\")`,   if your model does binary classification   (e.g. if it uses a `sigmoid` last-layer activation).\n",
      "  warnings.warn('`model.predict_classes()` is deprecated and '\n"
     ]
    }
   ],
   "source": [
    "class_vgg=model.predict_classes(test_generator)"
   ]
  },
  {
   "cell_type": "code",
   "execution_count": null,
   "metadata": {
    "colab": {
     "base_uri": "https://localhost:8080/",
     "height": 207
    },
    "id": "jinkpYfReJMs",
    "outputId": "73397ba0-da8f-46cd-c870-79df7bc1a791"
   },
   "outputs": [
    {
     "name": "stdout",
     "output_type": "stream",
     "text": [
      "[[ 80 154]\n",
      " [188 437]]\n"
     ]
    },
    {
     "data": {
      "text/html": [
       "<div>\n",
       "<style scoped>\n",
       "    .dataframe tbody tr th:only-of-type {\n",
       "        vertical-align: middle;\n",
       "    }\n",
       "\n",
       "    .dataframe tbody tr th {\n",
       "        vertical-align: top;\n",
       "    }\n",
       "\n",
       "    .dataframe thead th {\n",
       "        text-align: right;\n",
       "    }\n",
       "</style>\n",
       "<table border=\"1\" class=\"dataframe\">\n",
       "  <thead>\n",
       "    <tr style=\"text-align: right;\">\n",
       "      <th></th>\n",
       "      <th>0</th>\n",
       "      <th>1</th>\n",
       "      <th>accuracy</th>\n",
       "      <th>macro avg</th>\n",
       "      <th>weighted avg</th>\n",
       "    </tr>\n",
       "  </thead>\n",
       "  <tbody>\n",
       "    <tr>\n",
       "      <th>precision</th>\n",
       "      <td>0.298507</td>\n",
       "      <td>0.739425</td>\n",
       "      <td>0.601863</td>\n",
       "      <td>0.518966</td>\n",
       "      <td>0.619315</td>\n",
       "    </tr>\n",
       "    <tr>\n",
       "      <th>recall</th>\n",
       "      <td>0.341880</td>\n",
       "      <td>0.699200</td>\n",
       "      <td>0.601863</td>\n",
       "      <td>0.520540</td>\n",
       "      <td>0.601863</td>\n",
       "    </tr>\n",
       "    <tr>\n",
       "      <th>f1-score</th>\n",
       "      <td>0.318725</td>\n",
       "      <td>0.718750</td>\n",
       "      <td>0.601863</td>\n",
       "      <td>0.518738</td>\n",
       "      <td>0.609779</td>\n",
       "    </tr>\n",
       "    <tr>\n",
       "      <th>support</th>\n",
       "      <td>234.000000</td>\n",
       "      <td>625.000000</td>\n",
       "      <td>0.601863</td>\n",
       "      <td>859.000000</td>\n",
       "      <td>859.000000</td>\n",
       "    </tr>\n",
       "  </tbody>\n",
       "</table>\n",
       "</div>"
      ],
      "text/plain": [
       "                    0           1  accuracy   macro avg  weighted avg\n",
       "precision    0.298507    0.739425  0.601863    0.518966      0.619315\n",
       "recall       0.341880    0.699200  0.601863    0.520540      0.601863\n",
       "f1-score     0.318725    0.718750  0.601863    0.518738      0.609779\n",
       "support    234.000000  625.000000  0.601863  859.000000    859.000000"
      ]
     },
     "execution_count": 52,
     "metadata": {
      "tags": []
     },
     "output_type": "execute_result"
    }
   ],
   "source": [
    "print(confusion_matrix(test_generator.classes, class_vgg))\n",
    "pd.DataFrame(classification_report(test_generator.classes, class_vgg, output_dict=True))"
   ]
  },
  {
   "cell_type": "markdown",
   "metadata": {
    "id": "oRcYVwoAiiI6"
   },
   "source": [
    "Model of InceptionResnetV2\n"
   ]
  },
  {
   "cell_type": "code",
   "execution_count": null,
   "metadata": {
    "colab": {
     "base_uri": "https://localhost:8080/"
    },
    "id": "JBjnZKaHNYxA",
    "outputId": "f554a1c2-40ac-4b68-d301-80dc5db12b15"
   },
   "outputs": [
    {
     "name": "stdout",
     "output_type": "stream",
     "text": [
      "Model: \"sequential_1\"\n",
      "_________________________________________________________________\n",
      "Layer (type)                 Output Shape              Param #   \n",
      "=================================================================\n",
      "inception_resnet_v2 (Functio (None, 3, 3, 1536)        54336736  \n",
      "_________________________________________________________________\n",
      "flatten_1 (Flatten)          (None, 13824)             0         \n",
      "_________________________________________________________________\n",
      "dense_3 (Dense)              (None, 512)               7078400   \n",
      "_________________________________________________________________\n",
      "dropout_2 (Dropout)          (None, 512)               0         \n",
      "_________________________________________________________________\n",
      "dense_4 (Dense)              (None, 512)               262656    \n",
      "_________________________________________________________________\n",
      "dropout_3 (Dropout)          (None, 512)               0         \n",
      "_________________________________________________________________\n",
      "dense_5 (Dense)              (None, 1)                 513       \n",
      "=================================================================\n",
      "Total params: 61,678,305\n",
      "Trainable params: 7,341,569\n",
      "Non-trainable params: 54,336,736\n",
      "_________________________________________________________________\n"
     ]
    }
   ],
   "source": [
    "# Model for InceptionResnetV2\n",
    "model_inception=Sequential([inception,\n",
    "                tf.keras.layers.Flatten(), \n",
    "                tf.keras.layers.Dense(512,activation=tf.nn.relu),\n",
    "                tf.keras.layers.Dropout(0.5),\n",
    "                tf.keras.layers.Dense(512,activation=tf.nn.relu),\n",
    "                tf.keras.layers.Dropout(0.7),\n",
    "                tf.keras.layers.Dense(1,activation=tf.nn.sigmoid)])\n",
    "model_inception.compile(loss='binary_crossentropy',optimizer=RMSprop(lr=0.001),metrics=['accuracy',tf.keras.metrics.Precision(name='precision'),\n",
    "        tf.keras.metrics.Recall(name='recall')])\n",
    "model_inception.summary()"
   ]
  },
  {
   "cell_type": "code",
   "execution_count": null,
   "metadata": {
    "colab": {
     "base_uri": "https://localhost:8080/"
    },
    "id": "qtqkvePcho7J",
    "outputId": "8e4a7dd3-781e-40b3-9262-800baf6f9dc6"
   },
   "outputs": [
    {
     "name": "stdout",
     "output_type": "stream",
     "text": [
      "Epoch 1/20\n",
      "10/10 [==============================] - 46s 2s/step - loss: 7.6033 - accuracy: 0.5769 - precision: 0.7552 - recall: 0.5726 - val_loss: 38368.8203 - val_accuracy: 0.2826 - val_precision: 0.9815 - val_recall: 0.0662\n",
      "Epoch 2/20\n",
      "10/10 [==============================] - 15s 2s/step - loss: 1.9413 - accuracy: 0.7379 - precision: 0.8477 - recall: 0.8171 - val_loss: 553.0750 - val_accuracy: 0.7759 - val_precision: 0.9522 - val_recall: 0.7453\n",
      "Epoch 3/20\n",
      "10/10 [==============================] - 16s 2s/step - loss: 0.3023 - accuracy: 0.8806 - precision: 0.9674 - recall: 0.8677 - val_loss: 110.5588 - val_accuracy: 0.8611 - val_precision: 0.9726 - val_recall: 0.8427\n",
      "Epoch 4/20\n",
      "10/10 [==============================] - 16s 2s/step - loss: 3.1057 - accuracy: 0.8721 - precision: 0.9413 - recall: 0.8602 - val_loss: 750.5892 - val_accuracy: 0.4425 - val_precision: 0.9740 - val_recall: 0.2809\n",
      "Epoch 5/20\n",
      "10/10 [==============================] - 16s 2s/step - loss: 0.6694 - accuracy: 0.8714 - precision: 0.9478 - recall: 0.8697 - val_loss: 104.9819 - val_accuracy: 0.8688 - val_precision: 0.8952 - val_recall: 0.9388\n",
      "Epoch 6/20\n",
      "10/10 [==============================] - 16s 2s/step - loss: 0.5188 - accuracy: 0.9063 - precision: 0.9767 - recall: 0.8935 - val_loss: 2.1169 - val_accuracy: 0.8496 - val_precision: 0.8375 - val_recall: 0.9975\n",
      "Epoch 7/20\n",
      "10/10 [==============================] - 16s 2s/step - loss: 0.1628 - accuracy: 0.9545 - precision: 0.9910 - recall: 0.9480 - val_loss: 1.4432 - val_accuracy: 0.9454 - val_precision: 0.9366 - val_recall: 0.9963\n",
      "Epoch 8/20\n",
      "10/10 [==============================] - 16s 2s/step - loss: 0.7156 - accuracy: 0.9139 - precision: 0.9724 - recall: 0.8965 - val_loss: 268.0104 - val_accuracy: 0.6082 - val_precision: 0.8843 - val_recall: 0.5630\n",
      "Epoch 9/20\n",
      "10/10 [==============================] - 16s 2s/step - loss: 0.9874 - accuracy: 0.8027 - precision: 0.9127 - recall: 0.8081 - val_loss: 0.3968 - val_accuracy: 0.8563 - val_precision: 0.8430 - val_recall: 0.9988\n",
      "Epoch 10/20\n",
      "10/10 [==============================] - 16s 2s/step - loss: 0.6432 - accuracy: 0.9361 - precision: 0.9910 - recall: 0.9205 - val_loss: 14.0865 - val_accuracy: 0.9234 - val_precision: 0.9120 - val_recall: 0.9963\n",
      "Epoch 11/20\n",
      "10/10 [==============================] - 15s 2s/step - loss: 0.1651 - accuracy: 0.9186 - precision: 0.9745 - recall: 0.9156 - val_loss: 252.6885 - val_accuracy: 0.7107 - val_precision: 0.7807 - val_recall: 0.8664\n",
      "Epoch 12/20\n",
      "10/10 [==============================] - 15s 2s/step - loss: 0.1809 - accuracy: 0.9614 - precision: 0.9811 - recall: 0.9657 - val_loss: 4.6221 - val_accuracy: 0.8352 - val_precision: 0.9362 - val_recall: 0.8427\n",
      "Epoch 13/20\n",
      "10/10 [==============================] - 15s 2s/step - loss: 0.2042 - accuracy: 0.9264 - precision: 0.9793 - recall: 0.9224 - val_loss: 5.0127 - val_accuracy: 0.8056 - val_precision: 0.8955 - val_recall: 0.8452\n",
      "Epoch 14/20\n",
      "10/10 [==============================] - 16s 2s/step - loss: 0.1169 - accuracy: 0.9517 - precision: 0.9938 - recall: 0.9411 - val_loss: 726.0762 - val_accuracy: 0.8266 - val_precision: 0.9493 - val_recall: 0.8177\n",
      "Epoch 15/20\n",
      "10/10 [==============================] - 16s 2s/step - loss: 0.3571 - accuracy: 0.8814 - precision: 0.9409 - recall: 0.8949 - val_loss: 1.4742 - val_accuracy: 0.9128 - val_precision: 0.9721 - val_recall: 0.9126\n",
      "Epoch 16/20\n",
      "10/10 [==============================] - 16s 2s/step - loss: 0.2615 - accuracy: 0.9018 - precision: 0.9798 - recall: 0.8932 - val_loss: 3.5922 - val_accuracy: 0.9109 - val_precision: 0.9436 - val_recall: 0.9401\n",
      "Epoch 17/20\n",
      "10/10 [==============================] - 16s 2s/step - loss: 0.2608 - accuracy: 0.8974 - precision: 0.9745 - recall: 0.8906 - val_loss: 91.5761 - val_accuracy: 0.7835 - val_precision: 0.8234 - val_recall: 0.9139\n",
      "Epoch 18/20\n",
      "10/10 [==============================] - 15s 2s/step - loss: 2.5368 - accuracy: 0.9202 - precision: 0.9611 - recall: 0.9380 - val_loss: 1094.9662 - val_accuracy: 0.8985 - val_precision: 0.9472 - val_recall: 0.9189\n",
      "Epoch 19/20\n",
      "10/10 [==============================] - 16s 2s/step - loss: 0.2979 - accuracy: 0.9172 - precision: 0.9667 - recall: 0.9185 - val_loss: 127.3364 - val_accuracy: 0.9377 - val_precision: 0.9612 - val_recall: 0.9576\n",
      "Epoch 20/20\n",
      "10/10 [==============================] - 15s 2s/step - loss: 0.4239 - accuracy: 0.8927 - precision: 0.9545 - recall: 0.8918 - val_loss: 3.0575 - val_accuracy: 0.9234 - val_precision: 0.9959 - val_recall: 0.9039\n"
     ]
    }
   ],
   "source": [
    "checkpoint_cb1 = tf.keras.callbacks.ModelCheckpoint(\"model1_inception.h5\",\n",
    "                                                    save_best_only=True)\n",
    "early_stopping_cb1 = tf.keras.callbacks.EarlyStopping(monitor ='val_loss', patience=10, mode = 'min',restore_best_weights=True)\n",
    "history3 = model_inception.fit(\n",
    "    train_generator,\n",
    "    steps_per_epoch = 10,\n",
    "    epochs = 20,\n",
    "    validation_data = validation_generator,\n",
    "    class_weight=class_weight)\n",
    " "
   ]
  },
  {
   "cell_type": "code",
   "execution_count": null,
   "metadata": {
    "colab": {
     "base_uri": "https://localhost:8080/"
    },
    "id": "yKZMnA9xhzrg",
    "outputId": "07788acd-11b1-44a6-90e2-223395df80e3"
   },
   "outputs": [
    {
     "name": "stdout",
     "output_type": "stream",
     "text": [
      "27/27 [==============================] - 7s 272ms/step - loss: 65.5445 - accuracy: 0.9336 - precision: 0.9343 - recall: 0.9776\n",
      "loss rate on evaluation data : 65.54446411132812\n",
      "accuracy rate on evaluation data : 0.9336437582969666\n",
      "Precision on evaluation data : 0.9342507719993591\n",
      "Recall on evaluation data : 0.9775999784469604\n"
     ]
    }
   ],
   "source": [
    "eval_result1=model_inception.evaluate(test_generator)\n",
    "print('loss rate on evaluation data :', eval_result1[0])\n",
    "print('accuracy rate on evaluation data :', eval_result1[1])\n",
    "print('Precision on evaluation data :', eval_result1[2])\n",
    "print('Recall on evaluation data :', eval_result1[3])"
   ]
  },
  {
   "cell_type": "code",
   "execution_count": null,
   "metadata": {
    "colab": {
     "base_uri": "https://localhost:8080/"
    },
    "id": "_8U2z2WdVjoX",
    "outputId": "86aee503-1825-4a48-ff7a-d1db91d2bb7f"
   },
   "outputs": [
    {
     "name": "stderr",
     "output_type": "stream",
     "text": [
      "/usr/local/lib/python3.7/dist-packages/tensorflow/python/keras/engine/sequential.py:450: UserWarning: `model.predict_classes()` is deprecated and will be removed after 2021-01-01. Please use instead:* `np.argmax(model.predict(x), axis=-1)`,   if your model does multi-class classification   (e.g. if it uses a `softmax` last-layer activation).* `(model.predict(x) > 0.5).astype(\"int32\")`,   if your model does binary classification   (e.g. if it uses a `sigmoid` last-layer activation).\n",
      "  warnings.warn('`model.predict_classes()` is deprecated and '\n"
     ]
    }
   ],
   "source": [
    "class_inception=model_inception.predict_classes(test_generator)"
   ]
  },
  {
   "cell_type": "code",
   "execution_count": null,
   "metadata": {
    "colab": {
     "base_uri": "https://localhost:8080/",
     "height": 207
    },
    "id": "QBZa0KGl0_jv",
    "outputId": "2faff7b4-9b5c-4510-db63-d032b00ba916"
   },
   "outputs": [
    {
     "name": "stdout",
     "output_type": "stream",
     "text": [
      "[[ 55 179]\n",
      " [150 475]]\n"
     ]
    },
    {
     "data": {
      "text/html": [
       "<div>\n",
       "<style scoped>\n",
       "    .dataframe tbody tr th:only-of-type {\n",
       "        vertical-align: middle;\n",
       "    }\n",
       "\n",
       "    .dataframe tbody tr th {\n",
       "        vertical-align: top;\n",
       "    }\n",
       "\n",
       "    .dataframe thead th {\n",
       "        text-align: right;\n",
       "    }\n",
       "</style>\n",
       "<table border=\"1\" class=\"dataframe\">\n",
       "  <thead>\n",
       "    <tr style=\"text-align: right;\">\n",
       "      <th></th>\n",
       "      <th>0</th>\n",
       "      <th>1</th>\n",
       "      <th>accuracy</th>\n",
       "      <th>macro avg</th>\n",
       "      <th>weighted avg</th>\n",
       "    </tr>\n",
       "  </thead>\n",
       "  <tbody>\n",
       "    <tr>\n",
       "      <th>precision</th>\n",
       "      <td>0.268293</td>\n",
       "      <td>0.726300</td>\n",
       "      <td>0.616997</td>\n",
       "      <td>0.497296</td>\n",
       "      <td>0.601534</td>\n",
       "    </tr>\n",
       "    <tr>\n",
       "      <th>recall</th>\n",
       "      <td>0.235043</td>\n",
       "      <td>0.760000</td>\n",
       "      <td>0.616997</td>\n",
       "      <td>0.497521</td>\n",
       "      <td>0.616997</td>\n",
       "    </tr>\n",
       "    <tr>\n",
       "      <th>f1-score</th>\n",
       "      <td>0.250569</td>\n",
       "      <td>0.742768</td>\n",
       "      <td>0.616997</td>\n",
       "      <td>0.496669</td>\n",
       "      <td>0.608688</td>\n",
       "    </tr>\n",
       "    <tr>\n",
       "      <th>support</th>\n",
       "      <td>234.000000</td>\n",
       "      <td>625.000000</td>\n",
       "      <td>0.616997</td>\n",
       "      <td>859.000000</td>\n",
       "      <td>859.000000</td>\n",
       "    </tr>\n",
       "  </tbody>\n",
       "</table>\n",
       "</div>"
      ],
      "text/plain": [
       "                    0           1  accuracy   macro avg  weighted avg\n",
       "precision    0.268293    0.726300  0.616997    0.497296      0.601534\n",
       "recall       0.235043    0.760000  0.616997    0.497521      0.616997\n",
       "f1-score     0.250569    0.742768  0.616997    0.496669      0.608688\n",
       "support    234.000000  625.000000  0.616997  859.000000    859.000000"
      ]
     },
     "execution_count": 345,
     "metadata": {
      "tags": []
     },
     "output_type": "execute_result"
    }
   ],
   "source": [
    "print(confusion_matrix(test_generator.classes,class_inception))\n",
    "pd.DataFrame(classification_report(test_generator.classes,class_inception, output_dict=True))"
   ]
  },
  {
   "cell_type": "code",
   "execution_count": null,
   "metadata": {
    "colab": {
     "base_uri": "https://localhost:8080/",
     "height": 499
    },
    "id": "y1Ry9ilXW6_i",
    "outputId": "527e9ae3-03e7-429a-9cc9-e2263740cefa"
   },
   "outputs": [
    {
     "data": {
      "image/png": "[encoded data removed]",
      "text/plain": [
       "<Figure size 576x576 with 2 Axes>"
      ]
     },
     "metadata": {
      "tags": []
     },
     "output_type": "display_data"
    }
   ],
   "source": [
    "acc = history3.history['accuracy']\n",
    "val_acc = history3.history['val_accuracy']\n",
    "\n",
    "loss = history3.history['loss']\n",
    "val_loss = history3.history['val_loss']\n",
    "\n",
    "epochs_range = range(20)\n",
    "\n",
    "plt.figure(figsize=(8, 8))\n",
    "plt.subplot(1, 2, 1)\n",
    "plt.plot(epochs_range, acc, label='Training Accuracy')\n",
    "plt.plot(epochs_range, val_acc, label='Validation Accuracy')\n",
    "plt.legend(loc='lower right')\n",
    "plt.title('Training and Validation Accuracy')\n",
    "\n",
    "plt.subplot(1, 2, 2)\n",
    "plt.plot(epochs_range, loss, label='Training Loss')\n",
    "plt.plot(epochs_range, val_loss, label='Validation Loss')\n",
    "plt.legend(loc='upper right')\n",
    "plt.title('Training and Validation Loss')\n",
    "plt.show()"
   ]
  },
  {
   "cell_type": "markdown",
   "metadata": {
    "id": "D_QCu4r6qJcA"
   },
   "source": [
    "Model of INCEPTION V3"
   ]
  },
  {
   "cell_type": "code",
   "execution_count": null,
   "metadata": {
    "id": "Bzuq2RfyX81b"
   },
   "outputs": [],
   "source": [
    "# Inception v3 model\n",
    "from keras.applications.inception_v3 import InceptionV3\n",
    "# create the base pre-trained model\n",
    "base_model = InceptionV3(weights=None, include_top=False,input_shape=(150, 150,3) )"
   ]
  },
  {
   "cell_type": "code",
   "execution_count": null,
   "metadata": {
    "colab": {
     "base_uri": "https://localhost:8080/"
    },
    "id": "ESLUeubhqQEE",
    "outputId": "28b518a2-0f33-4f74-ee8d-46b2a65f4cbd"
   },
   "outputs": [
    {
     "name": "stdout",
     "output_type": "stream",
     "text": [
      "Found 4172 images belonging to 2 classes.\n",
      "Found 1044 images belonging to 2 classes.\n",
      "Found 859 images belonging to 2 classes.\n"
     ]
    }
   ],
   "source": [
    "train_datagen = ImageDataGenerator(rescale=1/ 255,\n",
    "    shear_range=0.2,\n",
    "    zoom_range=0.2,\n",
    "    horizontal_flip=True)\n",
    "val_datagen = ImageDataGenerator(rescale = 1/255)\n",
    "                                \n",
    "\n",
    "train_generator = train_datagen.flow_from_directory(\n",
    "    '/content/gdrive/My Drive/train_dataset/',\n",
    "    target_size = [150,150],\n",
    "    class_mode = 'binary'\n",
    ")\n",
    "\n",
    "validation_generator = val_datagen.flow_from_directory(\n",
    "    '/content/gdrive/My Drive/val_dataset/',\n",
    "    target_size = [150,150],\n",
    "    class_mode = 'binary')\n",
    "eval_datagen = ImageDataGenerator(rescale = 1/255)\n",
    "\n",
    "test_generator = eval_datagen.flow_from_directory(\n",
    "    '/content/gdrive/My Drive/test',\n",
    "    target_size =[150,150],\n",
    "    class_mode = 'binary')"
   ]
  },
  {
   "cell_type": "code",
   "execution_count": null,
   "metadata": {
    "colab": {
     "base_uri": "https://localhost:8080/"
    },
    "id": "4e0WFk-0b_3B",
    "outputId": "d949ac54-0203-468d-d901-a12222e5af1e"
   },
   "outputs": [
    {
     "name": "stdout",
     "output_type": "stream",
     "text": [
      "Model: \"sequential_2\"\n",
      "_________________________________________________________________\n",
      "Layer (type)                 Output Shape              Param #   \n",
      "=================================================================\n",
      "inception_v3 (Functional)    (None, 3, 3, 2048)        21802784  \n",
      "_________________________________________________________________\n",
      "dropout_4 (Dropout)          (None, 3, 3, 2048)        0         \n",
      "_________________________________________________________________\n",
      "global_average_pooling2d (Gl (None, 2048)              0         \n",
      "_________________________________________________________________\n",
      "dense_6 (Dense)              (None, 128)               262272    \n",
      "_________________________________________________________________\n",
      "batch_normalization_297 (Bat (None, 128)               512       \n",
      "_________________________________________________________________\n",
      "dense_7 (Dense)              (None, 1)                 129       \n",
      "=================================================================\n",
      "Total params: 22,065,697\n",
      "Trainable params: 22,031,009\n",
      "Non-trainable params: 34,688\n",
      "_________________________________________________________________\n"
     ]
    }
   ],
   "source": [
    "# Model for inception v2\n",
    "model_v2=Sequential([base_model,\n",
    "                tf.keras.layers.Dropout(0.5),                    \n",
    "                tf.keras.layers.GlobalAveragePooling2D(),\n",
    "                tf.keras.layers.Dense(128, activation='relu'),\n",
    "                tf.keras.layers.BatchNormalization(),\n",
    "                tf.keras.layers.Dense(1, activation='sigmoid')])\n",
    "model_v2.compile(loss='binary_crossentropy',optimizer='Adam',metrics=['accuracy',tf.keras.metrics.Precision(name='precision'),\n",
    "        tf.keras.metrics.Recall(name='recall')])\n",
    "model_v2.summary()\n"
   ]
  },
  {
   "cell_type": "code",
   "execution_count": null,
   "metadata": {
    "colab": {
     "base_uri": "https://localhost:8080/"
    },
    "id": "6YB34hEIdZs1",
    "outputId": "c43ab79a-d0b7-4249-cd50-951de69a453b"
   },
   "outputs": [
    {
     "name": "stdout",
     "output_type": "stream",
     "text": [
      "WARNING:tensorflow:`epsilon` argument is deprecated and will be removed, use `min_delta` instead.\n"
     ]
    }
   ],
   "source": [
    "from keras.callbacks import ReduceLROnPlateau , ModelCheckpoint , LearningRateScheduler\n",
    "lr_reduce = ReduceLROnPlateau(monitor='val_accuracy', factor=0.1, epsilon=0.0001, patience=1, verbose=1)\n",
    "checkpoint= tf.keras.callbacks.ModelCheckpoint(\"model_v2.h5\",\n",
    "                                                    save_best_only=True)"
   ]
  },
  {
   "cell_type": "code",
   "execution_count": null,
   "metadata": {
    "colab": {
     "base_uri": "https://localhost:8080/"
    },
    "id": "LSUc89TZcoZz",
    "outputId": "637ec482-e776-4820-efb5-d4ada0155b5b"
   },
   "outputs": [
    {
     "name": "stdout",
     "output_type": "stream",
     "text": [
      "Epoch 1/15\n",
      "131/131 [==============================] - 857s 6s/step - loss: 0.4642 - accuracy: 0.8095 - precision: 0.9081 - recall: 0.8181 - val_loss: 0.8047 - val_accuracy: 0.7672 - val_precision: 0.7672 - val_recall: 1.0000\n",
      "Epoch 2/15\n",
      "131/131 [==============================] - 80s 614ms/step - loss: 0.2412 - accuracy: 0.9137 - precision: 0.9421 - recall: 0.9410 - val_loss: 1.2243 - val_accuracy: 0.7672 - val_precision: 0.7672 - val_recall: 1.0000\n",
      "\n",
      "Epoch 00002: ReduceLROnPlateau reducing learning rate to 0.00010000000474974513.\n",
      "Epoch 3/15\n",
      "131/131 [==============================] - 79s 605ms/step - loss: 0.2093 - accuracy: 0.9239 - precision: 0.9620 - recall: 0.9356 - val_loss: 1.0507 - val_accuracy: 0.7672 - val_precision: 0.7672 - val_recall: 1.0000\n",
      "\n",
      "Epoch 00003: ReduceLROnPlateau reducing learning rate to 1.0000000474974514e-05.\n",
      "Epoch 4/15\n",
      "131/131 [==============================] - 79s 602ms/step - loss: 0.1738 - accuracy: 0.9348 - precision: 0.9531 - recall: 0.9576 - val_loss: 0.2242 - val_accuracy: 0.8956 - val_precision: 0.8827 - val_recall: 0.9963\n",
      "Epoch 5/15\n",
      "131/131 [==============================] - 80s 614ms/step - loss: 0.1538 - accuracy: 0.9368 - precision: 0.9581 - recall: 0.9560 - val_loss: 0.1089 - val_accuracy: 0.9626 - val_precision: 0.9835 - val_recall: 0.9675\n",
      "Epoch 6/15\n",
      "131/131 [==============================] - 81s 616ms/step - loss: 0.1478 - accuracy: 0.9456 - precision: 0.9671 - recall: 0.9597 - val_loss: 0.1449 - val_accuracy: 0.9502 - val_precision: 0.9807 - val_recall: 0.9538\n",
      "\n",
      "Epoch 00006: ReduceLROnPlateau reducing learning rate to 1.0000000656873453e-06.\n",
      "Epoch 7/15\n",
      "131/131 [==============================] - 80s 608ms/step - loss: 0.1660 - accuracy: 0.9403 - precision: 0.9571 - recall: 0.9622 - val_loss: 0.1773 - val_accuracy: 0.9425 - val_precision: 0.9744 - val_recall: 0.9501\n",
      "\n",
      "Epoch 00007: ReduceLROnPlateau reducing learning rate to 1.0000001111620805e-07.\n",
      "Epoch 8/15\n",
      "131/131 [==============================] - 79s 603ms/step - loss: 0.1484 - accuracy: 0.9420 - precision: 0.9619 - recall: 0.9594 - val_loss: 0.1752 - val_accuracy: 0.9377 - val_precision: 0.9742 - val_recall: 0.9438\n",
      "\n",
      "Epoch 00008: ReduceLROnPlateau reducing learning rate to 1.000000082740371e-08.\n",
      "Epoch 9/15\n",
      "131/131 [==============================] - 79s 603ms/step - loss: 0.1462 - accuracy: 0.9490 - precision: 0.9711 - recall: 0.9599 - val_loss: 0.2044 - val_accuracy: 0.9358 - val_precision: 0.9681 - val_recall: 0.9476\n",
      "\n",
      "Epoch 00009: ReduceLROnPlateau reducing learning rate to 1.000000082740371e-09.\n",
      "Epoch 10/15\n",
      "131/131 [==============================] - 80s 612ms/step - loss: 0.1715 - accuracy: 0.9388 - precision: 0.9635 - recall: 0.9541 - val_loss: 0.2029 - val_accuracy: 0.9358 - val_precision: 0.9681 - val_recall: 0.9476\n",
      "\n",
      "Epoch 00010: ReduceLROnPlateau reducing learning rate to 1.000000082740371e-10.\n",
      "Epoch 11/15\n",
      "131/131 [==============================] - 79s 607ms/step - loss: 0.1542 - accuracy: 0.9454 - precision: 0.9538 - recall: 0.9716 - val_loss: 0.2156 - val_accuracy: 0.9339 - val_precision: 0.9692 - val_recall: 0.9438\n",
      "\n",
      "Epoch 00011: ReduceLROnPlateau reducing learning rate to 1.000000082740371e-11.\n",
      "Epoch 12/15\n",
      "131/131 [==============================] - 79s 606ms/step - loss: 0.1641 - accuracy: 0.9384 - precision: 0.9583 - recall: 0.9583 - val_loss: 0.2141 - val_accuracy: 0.9339 - val_precision: 0.9692 - val_recall: 0.9438\n",
      "\n",
      "Epoch 00012: ReduceLROnPlateau reducing learning rate to 1.000000082740371e-12.\n",
      "Epoch 13/15\n",
      "131/131 [==============================] - 79s 602ms/step - loss: 0.1612 - accuracy: 0.9392 - precision: 0.9636 - recall: 0.9537 - val_loss: 0.2036 - val_accuracy: 0.9358 - val_precision: 0.9705 - val_recall: 0.9451\n",
      "\n",
      "Epoch 00013: ReduceLROnPlateau reducing learning rate to 1.0000001044244145e-13.\n",
      "Epoch 14/15\n",
      "131/131 [==============================] - 79s 606ms/step - loss: 0.1563 - accuracy: 0.9510 - precision: 0.9687 - recall: 0.9650 - val_loss: 0.2106 - val_accuracy: 0.9330 - val_precision: 0.9680 - val_recall: 0.9438\n",
      "\n",
      "Epoch 00014: ReduceLROnPlateau reducing learning rate to 1.0000001179769417e-14.\n",
      "Epoch 15/15\n",
      "131/131 [==============================] - 79s 604ms/step - loss: 0.1732 - accuracy: 0.9334 - precision: 0.9526 - recall: 0.9572 - val_loss: 0.2064 - val_accuracy: 0.9349 - val_precision: 0.9705 - val_recall: 0.9438\n",
      "\n",
      "Epoch 00015: ReduceLROnPlateau reducing learning rate to 1.0000001518582595e-15.\n"
     ]
    }
   ],
   "source": [
    "history = model_v2.fit(train_generator, validation_data = validation_generator ,callbacks=[lr_reduce,checkpoint] ,\n",
    "          epochs=15)"
   ]
  },
  {
   "cell_type": "code",
   "execution_count": null,
   "metadata": {
    "colab": {
     "base_uri": "https://localhost:8080/"
    },
    "id": "Tv89FChzdOGP",
    "outputId": "ac2de86b-f0f2-49be-ad67-3757019c946d"
   },
   "outputs": [
    {
     "name": "stderr",
     "output_type": "stream",
     "text": [
      "/usr/local/lib/python3.7/dist-packages/tensorflow/python/keras/engine/training.py:1877: UserWarning: `Model.evaluate_generator` is deprecated and will be removed in a future version. Please use `Model.evaluate`, which supports generators.\n",
      "  warnings.warn('`Model.evaluate_generator` is deprecated and '\n"
     ]
    },
    {
     "name": "stdout",
     "output_type": "stream",
     "text": [
      "loss rate on evaluation data : 0.2706884443759918\n",
      "accuracy rate on evaluation data : 0.9138533473014832\n",
      "precision on evaluation data : 0.9105812311172485\n",
      "recall on evaluation data : 0.9138533473014832\n"
     ]
    }
   ],
   "source": [
    "eval_result1=model_v2.evaluate_generator(test_generator)\n",
    "print('loss rate on evaluation data :', eval_result1[0])\n",
    "print('accuracy rate on evaluation data :', eval_result1[1])\n",
    "print('precision on evaluation data :', eval_result1[2])\n",
    "print('recall on evaluation data :', eval_result1[1])"
   ]
  },
  {
   "cell_type": "code",
   "execution_count": null,
   "metadata": {
    "colab": {
     "base_uri": "https://localhost:8080/",
     "height": 499
    },
    "id": "mm_-E1NTjttr",
    "outputId": "148cec01-9dc8-4f7c-9eeb-696976cb7d14"
   },
   "outputs": [
    {
     "data": {
      "image/png": "[encoded data removed]",
      "text/plain": [
       "<Figure size 576x576 with 2 Axes>"
      ]
     },
     "metadata": {
      "tags": []
     },
     "output_type": "display_data"
    }
   ],
   "source": [
    "acc = history.history['accuracy']\n",
    "val_acc = history.history['val_accuracy']\n",
    "\n",
    "loss = history.history['loss']\n",
    "val_loss = history.history['val_loss']\n",
    "\n",
    "epochs_range = range(15)\n",
    "\n",
    "plt.figure(figsize=(8, 8))\n",
    "plt.subplot(1, 2, 1)\n",
    "plt.plot(epochs_range, acc, label='Training Accuracy')\n",
    "plt.plot(epochs_range, val_acc, label='Validation Accuracy')\n",
    "plt.legend(loc='lower right')\n",
    "plt.title('Training and Validation Accuracy')\n",
    "\n",
    "plt.subplot(1, 2, 2)\n",
    "plt.plot(epochs_range, loss, label='Training Loss')\n",
    "plt.plot(epochs_range, val_loss, label='Validation Loss')\n",
    "plt.legend(loc='upper right')\n",
    "plt.title('Training and Validation Loss')\n",
    "plt.show()"
   ]
  },
  {
   "cell_type": "code",
   "execution_count": null,
   "metadata": {
    "colab": {
     "base_uri": "https://localhost:8080/"
    },
    "id": "VmSpcKzkkuGw",
    "outputId": "d2658d73-596c-4b1f-b687-04fc9b29e1ca"
   },
   "outputs": [
    {
     "name": "stderr",
     "output_type": "stream",
     "text": [
      "/usr/local/lib/python3.7/dist-packages/tensorflow/python/keras/engine/sequential.py:450: UserWarning: `model.predict_classes()` is deprecated and will be removed after 2021-01-01. Please use instead:* `np.argmax(model.predict(x), axis=-1)`,   if your model does multi-class classification   (e.g. if it uses a `softmax` last-layer activation).* `(model.predict(x) > 0.5).astype(\"int32\")`,   if your model does binary classification   (e.g. if it uses a `sigmoid` last-layer activation).\n",
      "  warnings.warn('`model.predict_classes()` is deprecated and '\n"
     ]
    }
   ],
   "source": [
    "class_v2=model_v2.predict_classes(test_generator)"
   ]
  },
  {
   "cell_type": "code",
   "execution_count": null,
   "metadata": {
    "colab": {
     "base_uri": "https://localhost:8080/"
    },
    "id": "h8aU0GrdvpR2",
    "outputId": "7ecf2951-2878-40e1-b02c-d44907486172"
   },
   "outputs": [
    {
     "name": "stdout",
     "output_type": "stream",
     "text": [
      "[[ 51 183]\n",
      " [137 488]]\n"
     ]
    }
   ],
   "source": [
    "print(confusion_matrix(test_generator.classes,class_v2))\n",
    "\n"
   ]
  },
  {
   "cell_type": "code",
   "execution_count": null,
   "metadata": {
    "id": "xsqcz2j50LyL"
   },
   "outputs": [],
   "source": [
    "# Ensemble of VGG16, inceptionresentv2 and  inceptionv3\n",
    "class_Ensemble=[]\n",
    "for i in range(len(class_v2)):\n",
    "  l=[]\n",
    "  l.append(class_v2[i][0])\n",
    "  l.append(class_inception[i][0])\n",
    "  l.append(class_vgg[i][0])\n",
    "  class_Ensemble.append(l)"
   ]
  },
  {
   "cell_type": "code",
   "execution_count": null,
   "metadata": {
    "id": "wyDHKblJJ_dM"
   },
   "outputs": [],
   "source": [
    "final=[]\n",
    "for i in range (len(class_Ensemble)):\n",
    "  output=[]\n",
    "  class_Ensemble[i].sort()\n",
    "  output.append(class_Ensemble[i][1])\n",
    "  final.append(output)\n"
   ]
  },
  {
   "cell_type": "code",
   "execution_count": null,
   "metadata": {
    "colab": {
     "base_uri": "https://localhost:8080/",
     "height": 207
    },
    "id": "wHJgkJigJ_as",
    "outputId": "4a67db78-6d00-483a-a24a-88a78dd9f1c5"
   },
   "outputs": [
    {
     "name": "stdout",
     "output_type": "stream",
     "text": [
      "[[ 16 218]\n",
      " [ 48 577]]\n"
     ]
    },
    {
     "data": {
      "text/html": [
       "<div>\n",
       "<style scoped>\n",
       "    .dataframe tbody tr th:only-of-type {\n",
       "        vertical-align: middle;\n",
       "    }\n",
       "\n",
       "    .dataframe tbody tr th {\n",
       "        vertical-align: top;\n",
       "    }\n",
       "\n",
       "    .dataframe thead th {\n",
       "        text-align: right;\n",
       "    }\n",
       "</style>\n",
       "<table border=\"1\" class=\"dataframe\">\n",
       "  <thead>\n",
       "    <tr style=\"text-align: right;\">\n",
       "      <th></th>\n",
       "      <th>0</th>\n",
       "      <th>1</th>\n",
       "      <th>accuracy</th>\n",
       "      <th>macro avg</th>\n",
       "      <th>weighted avg</th>\n",
       "    </tr>\n",
       "  </thead>\n",
       "  <tbody>\n",
       "    <tr>\n",
       "      <th>precision</th>\n",
       "      <td>0.250000</td>\n",
       "      <td>0.725786</td>\n",
       "      <td>0.690338</td>\n",
       "      <td>0.487893</td>\n",
       "      <td>0.596177</td>\n",
       "    </tr>\n",
       "    <tr>\n",
       "      <th>recall</th>\n",
       "      <td>0.068376</td>\n",
       "      <td>0.923200</td>\n",
       "      <td>0.690338</td>\n",
       "      <td>0.495788</td>\n",
       "      <td>0.690338</td>\n",
       "    </tr>\n",
       "    <tr>\n",
       "      <th>f1-score</th>\n",
       "      <td>0.107383</td>\n",
       "      <td>0.812676</td>\n",
       "      <td>0.690338</td>\n",
       "      <td>0.460029</td>\n",
       "      <td>0.620547</td>\n",
       "    </tr>\n",
       "    <tr>\n",
       "      <th>support</th>\n",
       "      <td>234.000000</td>\n",
       "      <td>625.000000</td>\n",
       "      <td>0.690338</td>\n",
       "      <td>859.000000</td>\n",
       "      <td>859.000000</td>\n",
       "    </tr>\n",
       "  </tbody>\n",
       "</table>\n",
       "</div>"
      ],
      "text/plain": [
       "                    0           1  accuracy   macro avg  weighted avg\n",
       "precision    0.250000    0.725786  0.690338    0.487893      0.596177\n",
       "recall       0.068376    0.923200  0.690338    0.495788      0.690338\n",
       "f1-score     0.107383    0.812676  0.690338    0.460029      0.620547\n",
       "support    234.000000  625.000000  0.690338  859.000000    859.000000"
      ]
     },
     "execution_count": 59,
     "metadata": {
      "tags": []
     },
     "output_type": "execute_result"
    }
   ],
   "source": [
    "print(confusion_matrix(test_generator.classes,final))\n",
    "pd.DataFrame(classification_report(test_generator.classes,final, output_dict=True))"
   ]
  },
  {
   "cell_type": "code",
   "execution_count": 1,
   "metadata": {
    "id": "HhGUSdCC0LlP"
   },
   "outputs": [
    {
     "ename": "NameError",
     "evalue": "name 'List' is not defined",
     "output_type": "error",
     "traceback": [
      "\u001b[0;31m---------------------------------------------------------------------------\u001b[0m",
      "\u001b[0;31mNameError\u001b[0m                                 Traceback (most recent call last)",
      "\u001b[0;32m<ipython-input-1-2159f22ce5c7>\u001b[0m in \u001b[0;36m<module>\u001b[0;34m\u001b[0m\n\u001b[0;32m----> 1\u001b[0;31m \u001b[0;32mdef\u001b[0m \u001b[0mensemble\u001b[0m\u001b[0;34m(\u001b[0m\u001b[0mmodels\u001b[0m\u001b[0;34m:\u001b[0m \u001b[0mList\u001b[0m \u001b[0;34m[\u001b[0m\u001b[0mtraining\u001b[0m\u001b[0;34m.\u001b[0m\u001b[0mModel\u001b[0m\u001b[0;34m]\u001b[0m\u001b[0;34m,\u001b[0m \u001b[0mmodel_input\u001b[0m\u001b[0;34m:\u001b[0m \u001b[0mTensor\u001b[0m\u001b[0;34m)\u001b[0m \u001b[0;34m->\u001b[0m \u001b[0mtraining\u001b[0m\u001b[0;34m.\u001b[0m\u001b[0mModel\u001b[0m\u001b[0;34m:\u001b[0m\u001b[0;34m\u001b[0m\u001b[0;34m\u001b[0m\u001b[0m\n\u001b[0m\u001b[1;32m      2\u001b[0m \u001b[0;34m\u001b[0m\u001b[0m\n\u001b[1;32m      3\u001b[0m     \u001b[0moutputs\u001b[0m \u001b[0;34m=\u001b[0m \u001b[0;34m[\u001b[0m\u001b[0mmodel\u001b[0m\u001b[0;34m.\u001b[0m\u001b[0moutputs\u001b[0m\u001b[0;34m[\u001b[0m\u001b[0;36m0\u001b[0m\u001b[0;34m]\u001b[0m \u001b[0;32mfor\u001b[0m \u001b[0mmodel\u001b[0m \u001b[0;32min\u001b[0m \u001b[0mmodels\u001b[0m\u001b[0;34m]\u001b[0m\u001b[0;34m\u001b[0m\u001b[0;34m\u001b[0m\u001b[0m\n\u001b[1;32m      4\u001b[0m     \u001b[0my\u001b[0m \u001b[0;34m=\u001b[0m \u001b[0mAverage\u001b[0m\u001b[0;34m(\u001b[0m\u001b[0;34m)\u001b[0m\u001b[0;34m(\u001b[0m\u001b[0moutputs\u001b[0m\u001b[0;34m)\u001b[0m\u001b[0;34m\u001b[0m\u001b[0;34m\u001b[0m\u001b[0m\n\u001b[1;32m      5\u001b[0m \u001b[0;34m\u001b[0m\u001b[0m\n",
      "\u001b[0;31mNameError\u001b[0m: name 'List' is not defined"
     ]
    }
   ],
   "source": [
    "def ensemble(models: List [training.Model], model_input: Tensor) -> training.Model:\n",
    "    \n",
    "    outputs = [model.outputs[0] for model in models]\n",
    "    y = Average()(outputs)\n",
    "    \n",
    "    model = Model(model_input, y, name='ensemble')\n",
    "    \n",
    "    return model"
   ]
  },
  {
   "cell_type": "code",
   "execution_count": null,
   "metadata": {
    "id": "x6jD7tuc0Lip"
   },
   "outputs": [],
   "source": [
    "def evaluate_error(model: training.Model) -> np.float64:\n",
    "    pred = model.predict(x_test, batch_size = 32)\n",
    "    pred = np.argmax(pred, axis=1)\n",
    "    pred = np.expand_dims(pred, axis=1) # make same shape as y_test\n",
    "    error = np.sum(np.not_equal(pred, y_test)) / y_test.shape[0]    \n",
    "    return error"
   ]
  }
 ],
 "metadata": {
  "accelerator": "GPU",
  "colab": {
   "collapsed_sections": [],
   "name": "final project 2",
   "provenance": [],
   "toc_visible": true
  },
  "kernelspec": {
   "display_name": "Python 3",
   "language": "python",
   "name": "python3"
  },
  "language_info": {
   "codemirror_mode": {
    "name": "ipython",
    "version": 3
   },
   "file_extension": ".py",
   "mimetype": "text/x-python",
   "name": "python",
   "nbconvert_exporter": "python",
   "pygments_lexer": "ipython3",
   "version": "3.8.5"
  }
 },
 "nbformat": 4,
 "nbformat_minor": 4
}
